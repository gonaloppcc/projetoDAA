{
 "cells": [
  {
   "cell_type": "markdown",
   "metadata": {},
   "source": [
    "# **Análise de Dados Pré-Respetivo Tratamento**"
   ]
  },
  {
   "cell_type": "markdown",
   "metadata": {
    "collapsed": false
   },
   "source": [
    "## Imports"
   ]
  },
  {
   "cell_type": "code",
   "execution_count": 1,
   "metadata": {
    "collapsed": false
   },
   "outputs": [],
   "source": [
    "import pandas as pd\n",
    "import matplotlib.pyplot as plt\n",
    "import seaborn as sns\n",
    "# matplotlib inline"
   ]
  },
  {
   "cell_type": "markdown",
   "metadata": {
    "collapsed": false
   },
   "source": [
    "## Carregar os dataset de treino e de teste"
   ]
  },
  {
   "cell_type": "code",
   "execution_count": 56,
   "metadata": {
    "collapsed": false
   },
   "outputs": [],
   "source": [
    "TRAINING_DATASET_SOURCE = 'training_data.csv'\n",
    "TEST_DATASET_SOURCE = 'test_data.csv'"
   ]
  },
  {
   "cell_type": "code",
   "execution_count": 57,
   "metadata": {
    "collapsed": false
   },
   "outputs": [],
   "source": [
    "train_df = pd.read_csv(TRAINING_DATASET_SOURCE)\n",
    "test_df = pd.read_csv(TEST_DATASET_SOURCE)"
   ]
  },
  {
   "cell_type": "markdown",
   "metadata": {
    "collapsed": false
   },
   "source": [
    "## Exploração de dados"
   ]
  },
  {
   "cell_type": "code",
   "execution_count": 4,
   "outputs": [
    {
     "data": {
      "text/plain": "   city_name magnitude_of_delay  delay_in_seconds  \\\n0  Guimaraes          UNDEFINED                 0   \n1  Guimaraes          UNDEFINED               385   \n2  Guimaraes          UNDEFINED                69   \n3  Guimaraes              MAJOR              2297   \n4  Guimaraes          UNDEFINED                 0   \n\n                                      affected_roads       record_date  \\\n0                                                  ,  2021-03-15 23:00   \n1                                              N101,  2021-12-25 18:00   \n2                                                  ,  2021-03-12 15:00   \n3  N101,R206,N105,N101,N101,N101,N101,N101,N101,N...  2021-09-29 09:00   \n4                          N101,N101,N101,N101,N101,  2021-06-13 11:00   \n\n  luminosity  avg_temperature  avg_atm_pressure  avg_humidity  avg_wind_speed  \\\n0       DARK             12.0            1013.0          70.0             1.0   \n1       DARK             12.0            1007.0          91.0             1.0   \n2      LIGHT             14.0            1025.0          64.0             0.0   \n3      LIGHT             15.0            1028.0          75.0             1.0   \n4      LIGHT             27.0            1020.0          52.0             1.0   \n\n   avg_precipitation   avg_rain  incidents  \n0                0.0  Sem Chuva       None  \n1                0.0  Sem Chuva       None  \n2                0.0  Sem Chuva        Low  \n3                0.0  Sem Chuva  Very_High  \n4                0.0  Sem Chuva       High  ",
      "text/html": "<div>\n<style scoped>\n    .dataframe tbody tr th:only-of-type {\n        vertical-align: middle;\n    }\n\n    .dataframe tbody tr th {\n        vertical-align: top;\n    }\n\n    .dataframe thead th {\n        text-align: right;\n    }\n</style>\n<table border=\"1\" class=\"dataframe\">\n  <thead>\n    <tr style=\"text-align: right;\">\n      <th></th>\n      <th>city_name</th>\n      <th>magnitude_of_delay</th>\n      <th>delay_in_seconds</th>\n      <th>affected_roads</th>\n      <th>record_date</th>\n      <th>luminosity</th>\n      <th>avg_temperature</th>\n      <th>avg_atm_pressure</th>\n      <th>avg_humidity</th>\n      <th>avg_wind_speed</th>\n      <th>avg_precipitation</th>\n      <th>avg_rain</th>\n      <th>incidents</th>\n    </tr>\n  </thead>\n  <tbody>\n    <tr>\n      <th>0</th>\n      <td>Guimaraes</td>\n      <td>UNDEFINED</td>\n      <td>0</td>\n      <td>,</td>\n      <td>2021-03-15 23:00</td>\n      <td>DARK</td>\n      <td>12.0</td>\n      <td>1013.0</td>\n      <td>70.0</td>\n      <td>1.0</td>\n      <td>0.0</td>\n      <td>Sem Chuva</td>\n      <td>None</td>\n    </tr>\n    <tr>\n      <th>1</th>\n      <td>Guimaraes</td>\n      <td>UNDEFINED</td>\n      <td>385</td>\n      <td>N101,</td>\n      <td>2021-12-25 18:00</td>\n      <td>DARK</td>\n      <td>12.0</td>\n      <td>1007.0</td>\n      <td>91.0</td>\n      <td>1.0</td>\n      <td>0.0</td>\n      <td>Sem Chuva</td>\n      <td>None</td>\n    </tr>\n    <tr>\n      <th>2</th>\n      <td>Guimaraes</td>\n      <td>UNDEFINED</td>\n      <td>69</td>\n      <td>,</td>\n      <td>2021-03-12 15:00</td>\n      <td>LIGHT</td>\n      <td>14.0</td>\n      <td>1025.0</td>\n      <td>64.0</td>\n      <td>0.0</td>\n      <td>0.0</td>\n      <td>Sem Chuva</td>\n      <td>Low</td>\n    </tr>\n    <tr>\n      <th>3</th>\n      <td>Guimaraes</td>\n      <td>MAJOR</td>\n      <td>2297</td>\n      <td>N101,R206,N105,N101,N101,N101,N101,N101,N101,N...</td>\n      <td>2021-09-29 09:00</td>\n      <td>LIGHT</td>\n      <td>15.0</td>\n      <td>1028.0</td>\n      <td>75.0</td>\n      <td>1.0</td>\n      <td>0.0</td>\n      <td>Sem Chuva</td>\n      <td>Very_High</td>\n    </tr>\n    <tr>\n      <th>4</th>\n      <td>Guimaraes</td>\n      <td>UNDEFINED</td>\n      <td>0</td>\n      <td>N101,N101,N101,N101,N101,</td>\n      <td>2021-06-13 11:00</td>\n      <td>LIGHT</td>\n      <td>27.0</td>\n      <td>1020.0</td>\n      <td>52.0</td>\n      <td>1.0</td>\n      <td>0.0</td>\n      <td>Sem Chuva</td>\n      <td>High</td>\n    </tr>\n  </tbody>\n</table>\n</div>"
     },
     "execution_count": 4,
     "metadata": {},
     "output_type": "execute_result"
    }
   ],
   "source": [
    "train_df.head()"
   ],
   "metadata": {
    "collapsed": false
   }
  },
  {
   "cell_type": "code",
   "execution_count": 5,
   "outputs": [
    {
     "data": {
      "text/plain": "       delay_in_seconds  avg_temperature  avg_atm_pressure  avg_humidity  \\\ncount       5000.000000      5000.000000       5000.000000   5000.000000   \nmean         560.567000        14.583000       1018.145000     74.455000   \nstd         1686.859581         4.820514          5.174372     17.204638   \nmin            0.000000         1.000000        997.000000      6.000000   \n25%            0.000000        11.000000       1015.000000     63.000000   \n50%            0.000000        14.000000       1019.000000     78.000000   \n75%          234.000000        18.000000       1022.000000     90.000000   \nmax        31083.000000        35.000000       1032.000000    100.000000   \n\n       avg_wind_speed  avg_precipitation  \ncount     5000.000000             5000.0  \nmean         1.253500                0.0  \nstd          1.269847                0.0  \nmin          0.000000                0.0  \n25%          0.000000                0.0  \n50%          1.000000                0.0  \n75%          2.000000                0.0  \nmax         10.000000                0.0  ",
      "text/html": "<div>\n<style scoped>\n    .dataframe tbody tr th:only-of-type {\n        vertical-align: middle;\n    }\n\n    .dataframe tbody tr th {\n        vertical-align: top;\n    }\n\n    .dataframe thead th {\n        text-align: right;\n    }\n</style>\n<table border=\"1\" class=\"dataframe\">\n  <thead>\n    <tr style=\"text-align: right;\">\n      <th></th>\n      <th>delay_in_seconds</th>\n      <th>avg_temperature</th>\n      <th>avg_atm_pressure</th>\n      <th>avg_humidity</th>\n      <th>avg_wind_speed</th>\n      <th>avg_precipitation</th>\n    </tr>\n  </thead>\n  <tbody>\n    <tr>\n      <th>count</th>\n      <td>5000.000000</td>\n      <td>5000.000000</td>\n      <td>5000.000000</td>\n      <td>5000.000000</td>\n      <td>5000.000000</td>\n      <td>5000.0</td>\n    </tr>\n    <tr>\n      <th>mean</th>\n      <td>560.567000</td>\n      <td>14.583000</td>\n      <td>1018.145000</td>\n      <td>74.455000</td>\n      <td>1.253500</td>\n      <td>0.0</td>\n    </tr>\n    <tr>\n      <th>std</th>\n      <td>1686.859581</td>\n      <td>4.820514</td>\n      <td>5.174372</td>\n      <td>17.204638</td>\n      <td>1.269847</td>\n      <td>0.0</td>\n    </tr>\n    <tr>\n      <th>min</th>\n      <td>0.000000</td>\n      <td>1.000000</td>\n      <td>997.000000</td>\n      <td>6.000000</td>\n      <td>0.000000</td>\n      <td>0.0</td>\n    </tr>\n    <tr>\n      <th>25%</th>\n      <td>0.000000</td>\n      <td>11.000000</td>\n      <td>1015.000000</td>\n      <td>63.000000</td>\n      <td>0.000000</td>\n      <td>0.0</td>\n    </tr>\n    <tr>\n      <th>50%</th>\n      <td>0.000000</td>\n      <td>14.000000</td>\n      <td>1019.000000</td>\n      <td>78.000000</td>\n      <td>1.000000</td>\n      <td>0.0</td>\n    </tr>\n    <tr>\n      <th>75%</th>\n      <td>234.000000</td>\n      <td>18.000000</td>\n      <td>1022.000000</td>\n      <td>90.000000</td>\n      <td>2.000000</td>\n      <td>0.0</td>\n    </tr>\n    <tr>\n      <th>max</th>\n      <td>31083.000000</td>\n      <td>35.000000</td>\n      <td>1032.000000</td>\n      <td>100.000000</td>\n      <td>10.000000</td>\n      <td>0.0</td>\n    </tr>\n  </tbody>\n</table>\n</div>"
     },
     "execution_count": 5,
     "metadata": {},
     "output_type": "execute_result"
    }
   ],
   "source": [
    "train_df.describe()"
   ],
   "metadata": {
    "collapsed": false
   }
  },
  {
   "cell_type": "code",
   "execution_count": 6,
   "metadata": {
    "collapsed": false
   },
   "outputs": [
    {
     "name": "stdout",
     "output_type": "stream",
     "text": [
      "<class 'pandas.core.frame.DataFrame'>\n",
      "RangeIndex: 5000 entries, 0 to 4999\n",
      "Data columns (total 13 columns):\n",
      " #   Column              Non-Null Count  Dtype  \n",
      "---  ------              --------------  -----  \n",
      " 0   city_name           5000 non-null   object \n",
      " 1   magnitude_of_delay  5000 non-null   object \n",
      " 2   delay_in_seconds    5000 non-null   int64  \n",
      " 3   affected_roads      4915 non-null   object \n",
      " 4   record_date         5000 non-null   object \n",
      " 5   luminosity          5000 non-null   object \n",
      " 6   avg_temperature     5000 non-null   float64\n",
      " 7   avg_atm_pressure    5000 non-null   float64\n",
      " 8   avg_humidity        5000 non-null   float64\n",
      " 9   avg_wind_speed      5000 non-null   float64\n",
      " 10  avg_precipitation   5000 non-null   float64\n",
      " 11  avg_rain            5000 non-null   object \n",
      " 12  incidents           5000 non-null   object \n",
      "dtypes: float64(5), int64(1), object(7)\n",
      "memory usage: 507.9+ KB\n"
     ]
    }
   ],
   "source": [
    "train_df.info()"
   ]
  },
  {
   "cell_type": "markdown",
   "metadata": {},
   "source": [
    "- Quantidade de valores únicos de cada feature"
   ]
  },
  {
   "cell_type": "code",
   "execution_count": 7,
   "metadata": {
    "collapsed": false
   },
   "outputs": [],
   "source": [
    "for column in train_df.columns:\n",
    "    train_df[column].value_counts()"
   ]
  },
  {
   "cell_type": "markdown",
   "source": [
    "- Análise dos valores da feature **avg_precipitation**"
   ],
   "metadata": {
    "collapsed": false
   }
  },
  {
   "cell_type": "code",
   "execution_count": 8,
   "outputs": [
    {
     "data": {
      "text/plain": "0.0    5000\nName: avg_precipitation, dtype: int64"
     },
     "execution_count": 8,
     "metadata": {},
     "output_type": "execute_result"
    }
   ],
   "source": [
    "train_df['avg_precipitation'].value_counts()"
   ],
   "metadata": {
    "collapsed": false
   }
  },
  {
   "cell_type": "markdown",
   "metadata": {},
   "source": [
    "- Definição do primeiro e do terceiro quartis\n",
    "- Definição do valor máximo (*upper*) e mínimo (*lower*)"
   ]
  },
  {
   "cell_type": "code",
   "execution_count": null,
   "outputs": [],
   "source": [
    "numeric_columns = ['avg_temperature', 'avg_atm_pressure', 'avg_humidity', 'avg_wind_speed',\n",
    "                   'delay_in_seconds', 'avg_precipitation']\n",
    "categorical_columns = ['city_name', 'magnitude_of_delay', 'luminosity', 'avg_rain',\n",
    "                       'affected_roads', 'record_date']"
   ],
   "metadata": {
    "collapsed": false
   }
  },
  {
   "cell_type": "code",
   "execution_count": null,
   "outputs": [],
   "source": [
    "whiskers = []\n",
    "\n",
    "for num in numeric_columns:\n",
    "    Q1 = train_df[num].quantile(0.25)\n",
    "    Q3 = train_df[num].quantile(0.75)\n",
    "    IQR = Q3 - Q1\n",
    "\n",
    "    lower = Q1 - 1.5 * IQR\n",
    "    upper = Q3 + 1.5 * IQR\n",
    "    whiskers.append((num, lower, upper))\n",
    "\n",
    "print(whiskers)"
   ],
   "metadata": {
    "collapsed": false
   }
  },
  {
   "cell_type": "markdown",
   "source": [
    "## Visualização gráfica dos dados"
   ],
   "metadata": {
    "collapsed": false
   }
  },
  {
   "cell_type": "markdown",
   "source": [
    "- Matriz de correlação para valores numéricos"
   ],
   "metadata": {
    "collapsed": false
   }
  },
  {
   "cell_type": "code",
   "execution_count": null,
   "outputs": [],
   "source": [
    "correlationMatrix = train_df.corr()\n",
    "f, ax = plt.subplots(figsize=(6, 8))\n",
    "sns.heatmap(correlationMatrix, vmin=-1, vmax=1, square=True, annot=True)"
   ],
   "metadata": {
    "collapsed": false
   }
  },
  {
   "cell_type": "markdown",
   "source": [
    "- Distribuições bivariadas de pares num conjunto de dados"
   ],
   "metadata": {
    "collapsed": false
   }
  },
  {
   "cell_type": "code",
   "execution_count": null,
   "outputs": [],
   "source": [
    "sns.pairplot(train_df)"
   ],
   "metadata": {
    "collapsed": false
   }
  },
  {
   "cell_type": "markdown",
   "source": [
    "- Diagrama de caixa para cada feature numérica"
   ],
   "metadata": {
    "collapsed": false
   }
  },
  {
   "cell_type": "code",
   "execution_count": null,
   "outputs": [],
   "source": [
    "for num in numeric_columns:\n",
    "    fig = plt.figure(figsize=(10, 5))\n",
    "    sns.boxplot(train_df[num])\n",
    "    plt.title('Box Plot: Feature ' + num, fontsize=15)\n",
    "    plt.show()"
   ],
   "metadata": {
    "collapsed": false
   }
  },
  {
   "cell_type": "code",
   "execution_count": null,
   "outputs": [],
   "source": [
    "sns.catplot(x='incidents', y='delay_in_seconds', data=train_df, kind='box', aspect=1.5)"
   ],
   "metadata": {
    "collapsed": false
   }
  },
  {
   "cell_type": "markdown",
   "source": [
    "- Quantidade de valores nulos em cada feature"
   ],
   "metadata": {
    "collapsed": false
   }
  },
  {
   "cell_type": "code",
   "execution_count": null,
   "outputs": [],
   "source": [
    "sns.heatmap(train_df.isnull(), yticklabels=False, cbar=False, cmap='viridis')"
   ],
   "metadata": {
    "collapsed": false
   }
  },
  {
   "cell_type": "markdown",
   "source": [
    "- Histogramas para cada feature categórica"
   ],
   "metadata": {
    "collapsed": false
   }
  },
  {
   "cell_type": "code",
   "execution_count": null,
   "outputs": [],
   "source": [
    "for categ in categorical_columns:\n",
    "    fig = plt.figure(figsize=(10, 5))\n",
    "    sns.histplot(train_df[categ])"
   ],
   "metadata": {
    "collapsed": false
   }
  },
  {
   "cell_type": "markdown",
   "source": [
    "###### Observação do número de vezes que cada categoria da feature **avg_rain** aparece"
   ],
   "metadata": {
    "collapsed": false
   }
  },
  {
   "cell_type": "code",
   "execution_count": null,
   "outputs": [],
   "source": [
    "train_df['avg_rain'].value_counts()"
   ],
   "metadata": {
    "collapsed": false
   }
  },
  {
   "cell_type": "markdown",
   "source": [
    "- Histograma de um conjunto univariante de observações da feature **incidents** (target)"
   ],
   "metadata": {
    "collapsed": false
   }
  },
  {
   "cell_type": "code",
   "execution_count": null,
   "outputs": [],
   "source": [
    "train_df['incidents'].unique()\n",
    "train_df['incidents'] = pd.Categorical(train_df['incidents'], categories=['None', 'Low', 'Medium', 'High', 'Very_High'])\n",
    "sns.displot(train_df['incidents'], kde=True)"
   ],
   "metadata": {
    "collapsed": false
   }
  },
  {
   "cell_type": "markdown",
   "source": [
    "- Histograma de um conjunto univariante de observações da feature **avg_wind_speed**"
   ],
   "metadata": {
    "collapsed": false
   }
  },
  {
   "cell_type": "code",
   "execution_count": null,
   "outputs": [],
   "source": [
    "sns.displot(train_df['avg_wind_speed'], kde=True)"
   ],
   "metadata": {
    "collapsed": false
   }
  },
  {
   "cell_type": "markdown",
   "source": [
    "- Histograma e outras informações uteis de um conjunto univariante de observações da feature **delay_in_seconds**"
   ],
   "metadata": {
    "collapsed": false
   }
  },
  {
   "cell_type": "code",
   "execution_count": null,
   "outputs": [],
   "source": [
    "sns.displot(train_df['delay_in_seconds'], kde=True)\n",
    "\n",
    "plt.ylim(0, 150)"
   ],
   "metadata": {
    "collapsed": false
   }
  },
  {
   "cell_type": "code",
   "execution_count": null,
   "outputs": [],
   "source": [
    "train_df['delay_in_seconds'].describe()"
   ],
   "metadata": {
    "collapsed": false
   }
  },
  {
   "cell_type": "code",
   "execution_count": null,
   "outputs": [],
   "source": [
    "sns.displot(train_df[train_df['delay_in_seconds'] > 10000]['delay_in_seconds'], kde=True)\n",
    "\n",
    "plt.ylim(0, 50)"
   ],
   "metadata": {
    "collapsed": false
   }
  },
  {
   "cell_type": "markdown",
   "source": [
    "## Relação entre Features"
   ],
   "metadata": {
    "collapsed": false
   }
  },
  {
   "cell_type": "markdown",
   "source": [
    "- Relação entre a feature avg_rain e a feature incidents (target)"
   ],
   "metadata": {
    "collapsed": false
   }
  },
  {
   "cell_type": "code",
   "execution_count": null,
   "outputs": [],
   "source": [
    "train_df.groupby(by=['avg_rain', 'incidents']).count()"
   ],
   "metadata": {
    "collapsed": false
   }
  },
  {
   "cell_type": "markdown",
   "source": [
    "- Relação entre a feature magnitude_of_delay e a feature incidents (target)"
   ],
   "metadata": {
    "collapsed": false
   }
  },
  {
   "cell_type": "code",
   "execution_count": null,
   "outputs": [],
   "source": [
    "train_df.groupby(by=['magnitude_of_delay', 'incidents']).count()"
   ],
   "metadata": {
    "collapsed": false
   }
  },
  {
   "cell_type": "code",
   "execution_count": null,
   "outputs": [],
   "source": [
    "train_df.groupby(by=['delay_in_seconds', 'incidents']).mean()"
   ],
   "metadata": {
    "collapsed": false
   }
  },
  {
   "cell_type": "markdown",
   "source": [
    "# Análise do dataset de teste"
   ],
   "metadata": {
    "collapsed": false
   }
  },
  {
   "cell_type": "code",
   "execution_count": 4,
   "outputs": [
    {
     "data": {
      "text/plain": "   city_name magnitude_of_delay  delay_in_seconds  \\\n0  Guimaraes          UNDEFINED              1211   \n1  Guimaraes          UNDEFINED                 0   \n2  Guimaraes          UNDEFINED                 0   \n3  Guimaraes          UNDEFINED               140   \n4  Guimaraes          UNDEFINED                 0   \n\n                   affected_roads       record_date luminosity  \\\n0  N101,N101,N101,N101,N101,N101,  2021-04-13 19:00      LIGHT   \n1        N101,N101,N101,N101,N101  2021-10-13 04:00       DARK   \n2        N101,N101,N101,N101,N101  2021-07-18 19:00      LIGHT   \n3   N101,R206,N101,N101,N101,N101  2021-10-30 15:00      LIGHT   \n4        N101,N101,N101,N101,N101  2021-10-18 10:00      LIGHT   \n\n   avg_temperature  avg_atm_pressure  avg_humidity  avg_wind_speed  \\\n0             15.0            1018.0          80.0             0.0   \n1             16.0            1018.0          41.0             2.0   \n2             22.0            1017.0          71.0             0.0   \n3             18.0            1008.0          81.0             3.0   \n4             20.0            1022.0          86.0             0.0   \n\n   avg_precipitation   avg_rain  \n0                0.0  Sem Chuva  \n1                0.0  Sem Chuva  \n2                0.0  Sem Chuva  \n3                0.0  Sem Chuva  \n4                0.0  Sem Chuva  ",
      "text/html": "<div>\n<style scoped>\n    .dataframe tbody tr th:only-of-type {\n        vertical-align: middle;\n    }\n\n    .dataframe tbody tr th {\n        vertical-align: top;\n    }\n\n    .dataframe thead th {\n        text-align: right;\n    }\n</style>\n<table border=\"1\" class=\"dataframe\">\n  <thead>\n    <tr style=\"text-align: right;\">\n      <th></th>\n      <th>city_name</th>\n      <th>magnitude_of_delay</th>\n      <th>delay_in_seconds</th>\n      <th>affected_roads</th>\n      <th>record_date</th>\n      <th>luminosity</th>\n      <th>avg_temperature</th>\n      <th>avg_atm_pressure</th>\n      <th>avg_humidity</th>\n      <th>avg_wind_speed</th>\n      <th>avg_precipitation</th>\n      <th>avg_rain</th>\n    </tr>\n  </thead>\n  <tbody>\n    <tr>\n      <th>0</th>\n      <td>Guimaraes</td>\n      <td>UNDEFINED</td>\n      <td>1211</td>\n      <td>N101,N101,N101,N101,N101,N101,</td>\n      <td>2021-04-13 19:00</td>\n      <td>LIGHT</td>\n      <td>15.0</td>\n      <td>1018.0</td>\n      <td>80.0</td>\n      <td>0.0</td>\n      <td>0.0</td>\n      <td>Sem Chuva</td>\n    </tr>\n    <tr>\n      <th>1</th>\n      <td>Guimaraes</td>\n      <td>UNDEFINED</td>\n      <td>0</td>\n      <td>N101,N101,N101,N101,N101</td>\n      <td>2021-10-13 04:00</td>\n      <td>DARK</td>\n      <td>16.0</td>\n      <td>1018.0</td>\n      <td>41.0</td>\n      <td>2.0</td>\n      <td>0.0</td>\n      <td>Sem Chuva</td>\n    </tr>\n    <tr>\n      <th>2</th>\n      <td>Guimaraes</td>\n      <td>UNDEFINED</td>\n      <td>0</td>\n      <td>N101,N101,N101,N101,N101</td>\n      <td>2021-07-18 19:00</td>\n      <td>LIGHT</td>\n      <td>22.0</td>\n      <td>1017.0</td>\n      <td>71.0</td>\n      <td>0.0</td>\n      <td>0.0</td>\n      <td>Sem Chuva</td>\n    </tr>\n    <tr>\n      <th>3</th>\n      <td>Guimaraes</td>\n      <td>UNDEFINED</td>\n      <td>140</td>\n      <td>N101,R206,N101,N101,N101,N101</td>\n      <td>2021-10-30 15:00</td>\n      <td>LIGHT</td>\n      <td>18.0</td>\n      <td>1008.0</td>\n      <td>81.0</td>\n      <td>3.0</td>\n      <td>0.0</td>\n      <td>Sem Chuva</td>\n    </tr>\n    <tr>\n      <th>4</th>\n      <td>Guimaraes</td>\n      <td>UNDEFINED</td>\n      <td>0</td>\n      <td>N101,N101,N101,N101,N101</td>\n      <td>2021-10-18 10:00</td>\n      <td>LIGHT</td>\n      <td>20.0</td>\n      <td>1022.0</td>\n      <td>86.0</td>\n      <td>0.0</td>\n      <td>0.0</td>\n      <td>Sem Chuva</td>\n    </tr>\n  </tbody>\n</table>\n</div>"
     },
     "execution_count": 4,
     "metadata": {},
     "output_type": "execute_result"
    }
   ],
   "source": [
    "test_df.head()"
   ],
   "metadata": {
    "collapsed": false
   }
  },
  {
   "cell_type": "code",
   "execution_count": 5,
   "outputs": [
    {
     "name": "stdout",
     "output_type": "stream",
     "text": [
      "<class 'pandas.core.frame.DataFrame'>\n",
      "RangeIndex: 1206 entries, 0 to 1205\n",
      "Data columns (total 12 columns):\n",
      " #   Column              Non-Null Count  Dtype  \n",
      "---  ------              --------------  -----  \n",
      " 0   city_name           1206 non-null   object \n",
      " 1   magnitude_of_delay  1206 non-null   object \n",
      " 2   delay_in_seconds    1206 non-null   int64  \n",
      " 3   affected_roads      1184 non-null   object \n",
      " 4   record_date         1206 non-null   object \n",
      " 5   luminosity          1206 non-null   object \n",
      " 6   avg_temperature     1206 non-null   float64\n",
      " 7   avg_atm_pressure    1206 non-null   float64\n",
      " 8   avg_humidity        1206 non-null   float64\n",
      " 9   avg_wind_speed      1206 non-null   float64\n",
      " 10  avg_precipitation   1206 non-null   float64\n",
      " 11  avg_rain            1206 non-null   object \n",
      "dtypes: float64(5), int64(1), object(6)\n",
      "memory usage: 113.2+ KB\n"
     ]
    }
   ],
   "source": [
    "test_df.info()"
   ],
   "metadata": {
    "collapsed": false
   }
  },
  {
   "cell_type": "code",
   "execution_count": 7,
   "outputs": [
    {
     "data": {
      "text/plain": "       delay_in_seconds  avg_temperature  avg_atm_pressure  avg_humidity  \\\ncount       5000.000000      5000.000000       5000.000000   5000.000000   \nmean         560.567000        14.583000       1018.145000     74.455000   \nstd         1686.859581         4.820514          5.174372     17.204638   \nmin            0.000000         1.000000        997.000000      6.000000   \n25%            0.000000        11.000000       1015.000000     63.000000   \n50%            0.000000        14.000000       1019.000000     78.000000   \n75%          234.000000        18.000000       1022.000000     90.000000   \nmax        31083.000000        35.000000       1032.000000    100.000000   \n\n       avg_wind_speed  avg_precipitation  \ncount     5000.000000             5000.0  \nmean         1.253500                0.0  \nstd          1.269847                0.0  \nmin          0.000000                0.0  \n25%          0.000000                0.0  \n50%          1.000000                0.0  \n75%          2.000000                0.0  \nmax         10.000000                0.0  ",
      "text/html": "<div>\n<style scoped>\n    .dataframe tbody tr th:only-of-type {\n        vertical-align: middle;\n    }\n\n    .dataframe tbody tr th {\n        vertical-align: top;\n    }\n\n    .dataframe thead th {\n        text-align: right;\n    }\n</style>\n<table border=\"1\" class=\"dataframe\">\n  <thead>\n    <tr style=\"text-align: right;\">\n      <th></th>\n      <th>delay_in_seconds</th>\n      <th>avg_temperature</th>\n      <th>avg_atm_pressure</th>\n      <th>avg_humidity</th>\n      <th>avg_wind_speed</th>\n      <th>avg_precipitation</th>\n    </tr>\n  </thead>\n  <tbody>\n    <tr>\n      <th>count</th>\n      <td>5000.000000</td>\n      <td>5000.000000</td>\n      <td>5000.000000</td>\n      <td>5000.000000</td>\n      <td>5000.000000</td>\n      <td>5000.0</td>\n    </tr>\n    <tr>\n      <th>mean</th>\n      <td>560.567000</td>\n      <td>14.583000</td>\n      <td>1018.145000</td>\n      <td>74.455000</td>\n      <td>1.253500</td>\n      <td>0.0</td>\n    </tr>\n    <tr>\n      <th>std</th>\n      <td>1686.859581</td>\n      <td>4.820514</td>\n      <td>5.174372</td>\n      <td>17.204638</td>\n      <td>1.269847</td>\n      <td>0.0</td>\n    </tr>\n    <tr>\n      <th>min</th>\n      <td>0.000000</td>\n      <td>1.000000</td>\n      <td>997.000000</td>\n      <td>6.000000</td>\n      <td>0.000000</td>\n      <td>0.0</td>\n    </tr>\n    <tr>\n      <th>25%</th>\n      <td>0.000000</td>\n      <td>11.000000</td>\n      <td>1015.000000</td>\n      <td>63.000000</td>\n      <td>0.000000</td>\n      <td>0.0</td>\n    </tr>\n    <tr>\n      <th>50%</th>\n      <td>0.000000</td>\n      <td>14.000000</td>\n      <td>1019.000000</td>\n      <td>78.000000</td>\n      <td>1.000000</td>\n      <td>0.0</td>\n    </tr>\n    <tr>\n      <th>75%</th>\n      <td>234.000000</td>\n      <td>18.000000</td>\n      <td>1022.000000</td>\n      <td>90.000000</td>\n      <td>2.000000</td>\n      <td>0.0</td>\n    </tr>\n    <tr>\n      <th>max</th>\n      <td>31083.000000</td>\n      <td>35.000000</td>\n      <td>1032.000000</td>\n      <td>100.000000</td>\n      <td>10.000000</td>\n      <td>0.0</td>\n    </tr>\n  </tbody>\n</table>\n</div>"
     },
     "execution_count": 7,
     "metadata": {},
     "output_type": "execute_result"
    }
   ],
   "source": [
    "train_df.describe()"
   ],
   "metadata": {
    "collapsed": false
   }
  },
  {
   "cell_type": "code",
   "execution_count": 6,
   "outputs": [
    {
     "data": {
      "text/plain": "       delay_in_seconds  avg_temperature  avg_atm_pressure  avg_humidity  \\\ncount       1206.000000      1206.000000       1206.000000   1206.000000   \nmean         565.080431        14.649254       1018.024876     73.865672   \nstd         1584.544376         4.691180          5.338753     17.202341   \nmin            0.000000         2.000000        999.000000      7.000000   \n25%            0.000000        11.000000       1015.000000     62.000000   \n50%            0.000000        14.000000       1018.000000     77.000000   \n75%          268.750000        18.000000       1022.000000     90.000000   \nmax        14866.000000        30.000000       1031.000000    100.000000   \n\n       avg_wind_speed  avg_precipitation  \ncount     1206.000000             1206.0  \nmean         1.332504                0.0  \nstd          1.337510                0.0  \nmin          0.000000                0.0  \n25%          0.000000                0.0  \n50%          1.000000                0.0  \n75%          2.000000                0.0  \nmax          9.000000                0.0  ",
      "text/html": "<div>\n<style scoped>\n    .dataframe tbody tr th:only-of-type {\n        vertical-align: middle;\n    }\n\n    .dataframe tbody tr th {\n        vertical-align: top;\n    }\n\n    .dataframe thead th {\n        text-align: right;\n    }\n</style>\n<table border=\"1\" class=\"dataframe\">\n  <thead>\n    <tr style=\"text-align: right;\">\n      <th></th>\n      <th>delay_in_seconds</th>\n      <th>avg_temperature</th>\n      <th>avg_atm_pressure</th>\n      <th>avg_humidity</th>\n      <th>avg_wind_speed</th>\n      <th>avg_precipitation</th>\n    </tr>\n  </thead>\n  <tbody>\n    <tr>\n      <th>count</th>\n      <td>1206.000000</td>\n      <td>1206.000000</td>\n      <td>1206.000000</td>\n      <td>1206.000000</td>\n      <td>1206.000000</td>\n      <td>1206.0</td>\n    </tr>\n    <tr>\n      <th>mean</th>\n      <td>565.080431</td>\n      <td>14.649254</td>\n      <td>1018.024876</td>\n      <td>73.865672</td>\n      <td>1.332504</td>\n      <td>0.0</td>\n    </tr>\n    <tr>\n      <th>std</th>\n      <td>1584.544376</td>\n      <td>4.691180</td>\n      <td>5.338753</td>\n      <td>17.202341</td>\n      <td>1.337510</td>\n      <td>0.0</td>\n    </tr>\n    <tr>\n      <th>min</th>\n      <td>0.000000</td>\n      <td>2.000000</td>\n      <td>999.000000</td>\n      <td>7.000000</td>\n      <td>0.000000</td>\n      <td>0.0</td>\n    </tr>\n    <tr>\n      <th>25%</th>\n      <td>0.000000</td>\n      <td>11.000000</td>\n      <td>1015.000000</td>\n      <td>62.000000</td>\n      <td>0.000000</td>\n      <td>0.0</td>\n    </tr>\n    <tr>\n      <th>50%</th>\n      <td>0.000000</td>\n      <td>14.000000</td>\n      <td>1018.000000</td>\n      <td>77.000000</td>\n      <td>1.000000</td>\n      <td>0.0</td>\n    </tr>\n    <tr>\n      <th>75%</th>\n      <td>268.750000</td>\n      <td>18.000000</td>\n      <td>1022.000000</td>\n      <td>90.000000</td>\n      <td>2.000000</td>\n      <td>0.0</td>\n    </tr>\n    <tr>\n      <th>max</th>\n      <td>14866.000000</td>\n      <td>30.000000</td>\n      <td>1031.000000</td>\n      <td>100.000000</td>\n      <td>9.000000</td>\n      <td>0.0</td>\n    </tr>\n  </tbody>\n</table>\n</div>"
     },
     "execution_count": 6,
     "metadata": {},
     "output_type": "execute_result"
    }
   ],
   "source": [
    "test_df.describe()"
   ],
   "metadata": {
    "collapsed": false
   }
  },
  {
   "cell_type": "code",
   "execution_count": 16,
   "outputs": [
    {
     "data": {
      "text/plain": "                  0\ncount  5.000000e+03\nmean   1.563194e-17\nstd    1.000100e+00\nmin   -3.323472e-01\n25%   -3.323472e-01\n50%   -3.323472e-01\n75%   -1.936140e-01\nmax    1.809604e+01",
      "text/html": "<div>\n<style scoped>\n    .dataframe tbody tr th:only-of-type {\n        vertical-align: middle;\n    }\n\n    .dataframe tbody tr th {\n        vertical-align: top;\n    }\n\n    .dataframe thead th {\n        text-align: right;\n    }\n</style>\n<table border=\"1\" class=\"dataframe\">\n  <thead>\n    <tr style=\"text-align: right;\">\n      <th></th>\n      <th>0</th>\n    </tr>\n  </thead>\n  <tbody>\n    <tr>\n      <th>count</th>\n      <td>5.000000e+03</td>\n    </tr>\n    <tr>\n      <th>mean</th>\n      <td>1.563194e-17</td>\n    </tr>\n    <tr>\n      <th>std</th>\n      <td>1.000100e+00</td>\n    </tr>\n    <tr>\n      <th>min</th>\n      <td>-3.323472e-01</td>\n    </tr>\n    <tr>\n      <th>25%</th>\n      <td>-3.323472e-01</td>\n    </tr>\n    <tr>\n      <th>50%</th>\n      <td>-3.323472e-01</td>\n    </tr>\n    <tr>\n      <th>75%</th>\n      <td>-1.936140e-01</td>\n    </tr>\n    <tr>\n      <th>max</th>\n      <td>1.809604e+01</td>\n    </tr>\n  </tbody>\n</table>\n</div>"
     },
     "execution_count": 16,
     "metadata": {},
     "output_type": "execute_result"
    }
   ],
   "source": [
    "from sklearn.preprocessing import StandardScaler\n",
    "\n",
    "std_scaler = StandardScaler()\n",
    "\n",
    "temp_df = train_df.copy()\n",
    "\n",
    "temp_df['delay_in_seconds'] = train_df['delay_in_seconds'].map(lambda seconds: seconds / 60)\n",
    "\n",
    "pd.DataFrame(std_scaler.fit_transform(train_df[['delay_in_seconds']])).describe()\n"
   ],
   "metadata": {
    "collapsed": false
   }
  },
  {
   "cell_type": "code",
   "execution_count": 8,
   "outputs": [
    {
     "data": {
      "text/plain": "city_name              0\nmagnitude_of_delay     0\ndelay_in_seconds       0\naffected_roads        85\nrecord_date            0\nluminosity             0\navg_temperature        0\navg_atm_pressure       0\navg_humidity           0\navg_wind_speed         0\navg_precipitation      0\navg_rain               0\nincidents              0\ndtype: int64"
     },
     "execution_count": 8,
     "metadata": {},
     "output_type": "execute_result"
    }
   ],
   "source": [
    "train_df.isnull().sum()"
   ],
   "metadata": {
    "collapsed": false
   }
  },
  {
   "cell_type": "code",
   "execution_count": 9,
   "outputs": [
    {
     "data": {
      "text/plain": "city_name              0\nmagnitude_of_delay     0\ndelay_in_seconds       0\naffected_roads        22\nrecord_date            0\nluminosity             0\navg_temperature        0\navg_atm_pressure       0\navg_humidity           0\navg_wind_speed         0\navg_precipitation      0\navg_rain               0\ndtype: int64"
     },
     "execution_count": 9,
     "metadata": {},
     "output_type": "execute_result"
    }
   ],
   "source": [
    "test_df.isnull().sum()"
   ],
   "metadata": {
    "collapsed": false
   }
  },
  {
   "cell_type": "code",
   "execution_count": 85,
   "outputs": [],
   "source": [
    "def convert_record_date(df: pd.DataFrame) -> pd.DataFrame:\n",
    "    df_ = df.copy()\n",
    "\n",
    "    record_date = pd.DatetimeIndex(df_['record_date'])\n",
    "\n",
    "    df_.drop('record_date', axis=1, inplace=True)\n",
    "\n",
    "    df_['hour'] = record_date.hour\n",
    "    df_['day'] = record_date.day\n",
    "    df_['month'] = record_date.month\n",
    "    df_['weekday'] = record_date.weekday\n",
    "    df_['hour'] = record_date.hour\n",
    "    df_['minute'] = record_date.minute\n",
    "\n",
    "    return df_\n",
    "\n",
    "\n",
    "train_df = convert_record_date(train_df)"
   ],
   "metadata": {
    "collapsed": false
   }
  },
  {
   "cell_type": "code",
   "execution_count": 86,
   "outputs": [
    {
     "data": {
      "text/plain": "3     223\n9     217\n7     214\n13    213\n6     212\n14    212\n4     210\n0     209\n1     209\n5     209\n20    208\n2     208\n11    207\n15    207\n8     206\n10    206\n19    206\n12    206\n16    206\n23    206\n22    204\n17    203\n18    201\n21    198\nName: hour, dtype: int64"
     },
     "execution_count": 86,
     "metadata": {},
     "output_type": "execute_result"
    }
   ],
   "source": [
    "train_df['hour'].value_counts()"
   ],
   "metadata": {
    "collapsed": false
   }
  },
  {
   "cell_type": "code",
   "execution_count": 87,
   "outputs": [
    {
     "data": {
      "text/plain": "22    185\n23    183\n18    181\n20    180\n21    176\n3     176\n2     175\n24    174\n19    174\n11    173\n28    169\n16    168\n17    165\n12    165\n4     164\n30    163\n26    161\n25    160\n5     160\n29    160\n10    159\n9     157\n6     155\n13    155\n15    154\n27    153\n14    151\n8     146\n7     145\n1     144\n31     69\nName: day, dtype: int64"
     },
     "execution_count": 87,
     "metadata": {},
     "output_type": "execute_result"
    }
   ],
   "source": [
    "train_df['day'].value_counts()"
   ],
   "metadata": {
    "collapsed": false
   }
  },
  {
   "cell_type": "code",
   "execution_count": 88,
   "outputs": [
    {
     "data": {
      "text/plain": "12    607\n3     580\n11    580\n4     579\n10    562\n6     560\n7     551\n9     393\n1     299\n5     229\n2      60\nName: month, dtype: int64"
     },
     "execution_count": 88,
     "metadata": {},
     "output_type": "execute_result"
    }
   ],
   "source": [
    "train_df['month'].value_counts()"
   ],
   "metadata": {
    "collapsed": false
   }
  },
  {
   "cell_type": "code",
   "execution_count": 89,
   "outputs": [
    {
     "data": {
      "text/plain": "2    734\n1    725\n3    723\n4    711\n6    707\n0    706\n5    694\nName: weekday, dtype: int64"
     },
     "execution_count": 89,
     "metadata": {},
     "output_type": "execute_result"
    }
   ],
   "source": [
    "train_df['weekday'].value_counts()"
   ],
   "metadata": {
    "collapsed": false
   }
  },
  {
   "cell_type": "code",
   "execution_count": 90,
   "outputs": [
    {
     "data": {
      "text/plain": "3     223\n9     217\n7     214\n13    213\n6     212\n14    212\n4     210\n0     209\n1     209\n5     209\n20    208\n2     208\n11    207\n15    207\n8     206\n10    206\n19    206\n12    206\n16    206\n23    206\n22    204\n17    203\n18    201\n21    198\nName: hour, dtype: int64"
     },
     "execution_count": 90,
     "metadata": {},
     "output_type": "execute_result"
    }
   ],
   "source": [
    "train_df['hour'].value_counts()"
   ],
   "metadata": {
    "collapsed": false
   }
  },
  {
   "cell_type": "code",
   "execution_count": 91,
   "outputs": [
    {
     "data": {
      "text/plain": "0    5000\nName: minute, dtype: int64"
     },
     "execution_count": 91,
     "metadata": {},
     "output_type": "execute_result"
    }
   ],
   "source": [
    "train_df['minute'].value_counts()"
   ],
   "metadata": {
    "collapsed": false
   }
  },
  {
   "cell_type": "markdown",
   "source": [
    "## Comparação dos dados do dataset de treino com os dados do dataset de teste"
   ],
   "metadata": {
    "collapsed": false
   }
  },
  {
   "cell_type": "code",
   "execution_count": 92,
   "outputs": [
    {
     "data": {
      "text/plain": "Empty DataFrame\nColumns: [city_name, magnitude_of_delay, delay_in_seconds, affected_roads, luminosity, avg_temperature, avg_atm_pressure, avg_humidity, avg_wind_speed, avg_precipitation, avg_rain, incidents, hour, day, month, weekday, minute]\nIndex: []",
      "text/html": "<div>\n<style scoped>\n    .dataframe tbody tr th:only-of-type {\n        vertical-align: middle;\n    }\n\n    .dataframe tbody tr th {\n        vertical-align: top;\n    }\n\n    .dataframe thead th {\n        text-align: right;\n    }\n</style>\n<table border=\"1\" class=\"dataframe\">\n  <thead>\n    <tr style=\"text-align: right;\">\n      <th></th>\n      <th>city_name</th>\n      <th>magnitude_of_delay</th>\n      <th>delay_in_seconds</th>\n      <th>affected_roads</th>\n      <th>luminosity</th>\n      <th>avg_temperature</th>\n      <th>avg_atm_pressure</th>\n      <th>avg_humidity</th>\n      <th>avg_wind_speed</th>\n      <th>avg_precipitation</th>\n      <th>avg_rain</th>\n      <th>incidents</th>\n      <th>hour</th>\n      <th>day</th>\n      <th>month</th>\n      <th>weekday</th>\n      <th>minute</th>\n    </tr>\n  </thead>\n  <tbody>\n  </tbody>\n</table>\n</div>"
     },
     "execution_count": 92,
     "metadata": {},
     "output_type": "execute_result"
    }
   ],
   "source": [
    "train_df[train_df.duplicated()]"
   ],
   "metadata": {
    "collapsed": false
   }
  },
  {
   "cell_type": "code",
   "execution_count": 93,
   "outputs": [
    {
     "data": {
      "text/plain": "Empty DataFrame\nColumns: [city_name, magnitude_of_delay, delay_in_seconds, affected_roads, record_date, luminosity, avg_temperature, avg_atm_pressure, avg_humidity, avg_wind_speed, avg_precipitation, avg_rain]\nIndex: []",
      "text/html": "<div>\n<style scoped>\n    .dataframe tbody tr th:only-of-type {\n        vertical-align: middle;\n    }\n\n    .dataframe tbody tr th {\n        vertical-align: top;\n    }\n\n    .dataframe thead th {\n        text-align: right;\n    }\n</style>\n<table border=\"1\" class=\"dataframe\">\n  <thead>\n    <tr style=\"text-align: right;\">\n      <th></th>\n      <th>city_name</th>\n      <th>magnitude_of_delay</th>\n      <th>delay_in_seconds</th>\n      <th>affected_roads</th>\n      <th>record_date</th>\n      <th>luminosity</th>\n      <th>avg_temperature</th>\n      <th>avg_atm_pressure</th>\n      <th>avg_humidity</th>\n      <th>avg_wind_speed</th>\n      <th>avg_precipitation</th>\n      <th>avg_rain</th>\n    </tr>\n  </thead>\n  <tbody>\n  </tbody>\n</table>\n</div>"
     },
     "execution_count": 93,
     "metadata": {},
     "output_type": "execute_result"
    }
   ],
   "source": [
    "test_df[test_df.duplicated()]\n"
   ],
   "metadata": {
    "collapsed": false
   }
  },
  {
   "cell_type": "markdown",
   "source": [
    "### Obtenção das features númericas"
   ],
   "metadata": {
    "collapsed": false
   }
  },
  {
   "cell_type": "code",
   "execution_count": 94,
   "outputs": [
    {
     "data": {
      "text/plain": "['delay_in_seconds',\n 'avg_temperature',\n 'avg_atm_pressure',\n 'avg_humidity',\n 'avg_wind_speed',\n 'avg_precipitation',\n 'hour',\n 'day',\n 'month',\n 'weekday',\n 'minute']"
     },
     "execution_count": 94,
     "metadata": {},
     "output_type": "execute_result"
    }
   ],
   "source": [
    "[column for column, dtype in zip(train_df.columns, train_df.dtypes) if dtype.kind in ['i', 'f']]"
   ],
   "metadata": {
    "collapsed": false
   }
  },
  {
   "cell_type": "markdown",
   "source": [
    "### Obtenção das features categoricas"
   ],
   "metadata": {
    "collapsed": false
   }
  },
  {
   "cell_type": "code",
   "execution_count": 95,
   "outputs": [
    {
     "data": {
      "text/plain": "['city_name',\n 'magnitude_of_delay',\n 'affected_roads',\n 'luminosity',\n 'avg_rain',\n 'incidents']"
     },
     "execution_count": 95,
     "metadata": {},
     "output_type": "execute_result"
    }
   ],
   "source": [
    "[column for column, dtype in zip(train_df.columns, train_df.dtypes) if dtype.kind not in ['i', 'f']]"
   ],
   "metadata": {
    "collapsed": false
   }
  },
  {
   "cell_type": "code",
   "execution_count": 97,
   "outputs": [
    {
     "data": {
      "text/plain": "                    Train  Test\ncity_name               1     1\nmagnitude_of_delay      3     3\ndelay_in_seconds     1186   400\naffected_roads        678   205\nluminosity              3     3\navg_temperature        35    29\navg_atm_pressure       36    31\navg_humidity           83    77\navg_wind_speed         11     9\navg_precipitation       1     1\navg_rain                4     4\nhour                   24    24\nday                    31    31\nmonth                  11    11\nweekday                 7     7\nminute                  1     1",
      "text/html": "<div>\n<style scoped>\n    .dataframe tbody tr th:only-of-type {\n        vertical-align: middle;\n    }\n\n    .dataframe tbody tr th {\n        vertical-align: top;\n    }\n\n    .dataframe thead th {\n        text-align: right;\n    }\n</style>\n<table border=\"1\" class=\"dataframe\">\n  <thead>\n    <tr style=\"text-align: right;\">\n      <th></th>\n      <th>Train</th>\n      <th>Test</th>\n    </tr>\n  </thead>\n  <tbody>\n    <tr>\n      <th>city_name</th>\n      <td>1</td>\n      <td>1</td>\n    </tr>\n    <tr>\n      <th>magnitude_of_delay</th>\n      <td>3</td>\n      <td>3</td>\n    </tr>\n    <tr>\n      <th>delay_in_seconds</th>\n      <td>1186</td>\n      <td>400</td>\n    </tr>\n    <tr>\n      <th>affected_roads</th>\n      <td>678</td>\n      <td>205</td>\n    </tr>\n    <tr>\n      <th>luminosity</th>\n      <td>3</td>\n      <td>3</td>\n    </tr>\n    <tr>\n      <th>avg_temperature</th>\n      <td>35</td>\n      <td>29</td>\n    </tr>\n    <tr>\n      <th>avg_atm_pressure</th>\n      <td>36</td>\n      <td>31</td>\n    </tr>\n    <tr>\n      <th>avg_humidity</th>\n      <td>83</td>\n      <td>77</td>\n    </tr>\n    <tr>\n      <th>avg_wind_speed</th>\n      <td>11</td>\n      <td>9</td>\n    </tr>\n    <tr>\n      <th>avg_precipitation</th>\n      <td>1</td>\n      <td>1</td>\n    </tr>\n    <tr>\n      <th>avg_rain</th>\n      <td>4</td>\n      <td>4</td>\n    </tr>\n    <tr>\n      <th>hour</th>\n      <td>24</td>\n      <td>24</td>\n    </tr>\n    <tr>\n      <th>day</th>\n      <td>31</td>\n      <td>31</td>\n    </tr>\n    <tr>\n      <th>month</th>\n      <td>11</td>\n      <td>11</td>\n    </tr>\n    <tr>\n      <th>weekday</th>\n      <td>7</td>\n      <td>7</td>\n    </tr>\n    <tr>\n      <th>minute</th>\n      <td>1</td>\n      <td>1</td>\n    </tr>\n  </tbody>\n</table>\n</div>"
     },
     "execution_count": 97,
     "metadata": {},
     "output_type": "execute_result"
    }
   ],
   "source": [
    "train_df = train_df.drop('incidents', axis=1)\n",
    "test_df = convert_record_date(test_df)\n",
    "\n",
    "train_unique = train_df.nunique()\n",
    "test_unique = test_df.nunique()\n",
    "unique_df = pd.DataFrame(columns=['Train', 'Test'])\n",
    "\n",
    "unique_df['Train'] = train_unique\n",
    "unique_df['Test'] = test_unique\n",
    "\n",
    "unique_df"
   ],
   "metadata": {
    "collapsed": false
   }
  },
  {
   "cell_type": "code",
   "execution_count": 105,
   "outputs": [
    {
     "data": {
      "text/plain": "<Figure size 640x480 with 1 Axes>",
      "image/png": "[encoded data removed]"
     },
     "metadata": {},
     "output_type": "display_data"
    }
   ],
   "source": [
    "sns.histplot(train_df['delay_in_seconds'], fill=True, color='y')\n",
    "sns.histplot(test_df['delay_in_seconds'], fill=True, color=\"r\")\n",
    "\n",
    "plt.ylim(0, 800)\n",
    "\n",
    "plt.show()"
   ],
   "metadata": {
    "collapsed": false
   }
  },
  {
   "cell_type": "code",
   "execution_count": 99,
   "outputs": [
    {
     "data": {
      "text/plain": "<Figure size 640x480 with 1 Axes>",
      "image/png": "[encoded data removed]"
     },
     "metadata": {},
     "output_type": "display_data"
    }
   ],
   "source": [
    "sns.histplot(train_df['luminosity'], fill=True, color='y')\n",
    "sns.histplot(test_df['luminosity'], fill=True, color=\"r\")\n",
    "\n",
    "plt.show()"
   ],
   "metadata": {
    "collapsed": false
   }
  },
  {
   "cell_type": "code",
   "execution_count": 100,
   "outputs": [
    {
     "data": {
      "text/plain": "<Figure size 640x480 with 1 Axes>",
      "image/png": "[encoded data removed]"
     },
     "metadata": {},
     "output_type": "display_data"
    }
   ],
   "source": [
    "sns.histplot(train_df['avg_temperature'], fill=True, color='y')\n",
    "sns.histplot(test_df['avg_temperature'], fill=True, color=\"r\")\n",
    "\n",
    "plt.show()"
   ],
   "metadata": {
    "collapsed": false
   }
  },
  {
   "cell_type": "code",
   "execution_count": null,
   "outputs": [],
   "source": [],
   "metadata": {
    "collapsed": false
   }
  }
 ],
 "metadata": {
  "kernelspec": {
   "display_name": "Python 3.11.0 64-bit",
   "language": "python",
   "name": "python3"
  },
  "language_info": {
   "codemirror_mode": {
    "name": "ipython",
    "version": 3
   },
   "file_extension": ".py",
   "mimetype": "text/x-python",
   "name": "python",
   "nbconvert_exporter": "python",
   "pygments_lexer": "ipython3",
   "version": "3.11.0"
  },
  "vscode": {
   "interpreter": {
    "hash": "aee8b7b246df8f9039afb4144a1f6fd8d2ca17a180786b69acc140d282b71a49"
   }
  }
 },
 "nbformat": 4,
 "nbformat_minor": 0
}
