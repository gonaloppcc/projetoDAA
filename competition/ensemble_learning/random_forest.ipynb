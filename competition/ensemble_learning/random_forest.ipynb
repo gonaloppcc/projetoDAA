{
 "cells": [
  {
   "cell_type": "markdown",
   "source": [
    "# Implementação do Random Forest"
   ],
   "metadata": {
    "collapsed": false
   }
  },
  {
   "cell_type": "code",
   "execution_count": 31,
   "outputs": [],
   "source": [
    "TRAINING_DATASET_SOURCE = '../training_data.csv'  # Since we are one directory up, we should go down one directory to import the datasets\n",
    "TEST_DATASET_SOURCE = '../test_data.csv'"
   ],
   "metadata": {
    "collapsed": false
   }
  },
  {
   "cell_type": "code",
   "execution_count": 32,
   "outputs": [],
   "source": [
    "import pandas as pd\n",
    "from sklearn.compose import make_column_transformer\n",
    "from sklearn.impute import SimpleImputer\n",
    "from sklearn.model_selection import RandomizedSearchCV\n",
    "from sklearn.model_selection import train_test_split\n",
    "from sklearn.pipeline import make_pipeline\n",
    "from sklearn.preprocessing import MinMaxScaler, OneHotEncoder\n",
    "from pandas import DataFrame\n",
    "from sklearn.base import BaseEstimator\n",
    "from sklearn.base import TransformerMixin\n",
    "\n",
    "train_df = pd.read_csv(TRAINING_DATASET_SOURCE)\n",
    "test_df = pd.read_csv(TEST_DATASET_SOURCE)"
   ],
   "metadata": {
    "collapsed": false
   }
  },
  {
   "cell_type": "markdown",
   "source": [
    "# Definição dos dados de teste e de treino"
   ],
   "metadata": {
    "collapsed": false
   }
  },
  {
   "cell_type": "code",
   "execution_count": 33,
   "outputs": [
    {
     "name": "stdout",
     "output_type": "stream",
     "text": [
      "(5000, 13) (1206, 12)\n"
     ]
    }
   ],
   "source": [
    "print(train_df.shape, test_df.shape)"
   ],
   "metadata": {
    "collapsed": false
   }
  },
  {
   "cell_type": "code",
   "execution_count": 34,
   "outputs": [
    {
     "data": {
      "text/plain": "None         2028\nHigh         1073\nLow           718\nVery_High     603\nMedium        578\nName: incidents, dtype: int64"
     },
     "execution_count": 34,
     "metadata": {},
     "output_type": "execute_result"
    }
   ],
   "source": [
    "train_df['incidents'].value_counts()"
   ],
   "metadata": {
    "collapsed": false
   }
  },
  {
   "cell_type": "code",
   "execution_count": 35,
   "outputs": [
    {
     "name": "stdout",
     "output_type": "stream",
     "text": [
      "Max value count: 2028\n",
      "None         2028\n",
      "High         2028\n",
      "Low          2028\n",
      "Very_High    2028\n",
      "Medium       2028\n",
      "Name: incidents, dtype: int64\n"
     ]
    }
   ],
   "source": [
    "#count_class0, count_class1, count_class2, count_class3, count_class4 = train_df['incidents'].value_counts().to_frame()\n",
    "\n",
    "incidents_count = train_df['incidents'].value_counts()\n",
    "\n",
    "max_count = incidents_count.max()\n",
    "\n",
    "print('Max value count:', max_count)\n",
    "\n",
    "df_classes = []\n",
    "for category, counts in zip(incidents_count.index, incidents_count):\n",
    "    #print(category, counts)\n",
    "    df_classes.append(train_df[train_df['incidents'] == category])\n",
    "\n",
    "df_classes_over = []\n",
    "\n",
    "for category in df_classes:\n",
    "    df_classes_over.append(category.sample(max_count, replace=True))\n",
    "\n",
    "df_test_over = pd.concat(df_classes_over, axis=0)\n",
    "\n",
    "print(df_test_over['incidents'].value_counts())\n"
   ],
   "metadata": {
    "collapsed": false
   }
  },
  {
   "cell_type": "code",
   "execution_count": 36,
   "outputs": [],
   "source": [
    "features = df_test_over.drop(['incidents'], axis=1)\n",
    "target = df_test_over['incidents']\n",
    "\n",
    "all_features = features.columns.tolist()"
   ],
   "metadata": {
    "collapsed": false
   }
  },
  {
   "cell_type": "code",
   "execution_count": 37,
   "outputs": [
    {
     "data": {
      "text/plain": "      city_name magnitude_of_delay  delay_in_seconds  \\\n3256  Guimaraes          UNDEFINED                 0   \n4699  Guimaraes          UNDEFINED                 0   \n2502  Guimaraes          UNDEFINED                 0   \n3677  Guimaraes          UNDEFINED                 0   \n677   Guimaraes          UNDEFINED                 0   \n...         ...                ...               ...   \n3323  Guimaraes          UNDEFINED               815   \n3994  Guimaraes          UNDEFINED                 0   \n2046  Guimaraes          UNDEFINED                 0   \n3290  Guimaraes          UNDEFINED                 0   \n2272  Guimaraes              MAJOR               948   \n\n                                    affected_roads       record_date  \\\n3256                      N101,N101,N101,N101,N101  2021-09-13 16:00   \n4699                      N101,N101,N101,N101,N101  2021-10-16 03:00   \n2502                      N101,N101,N101,N101,N101  2021-09-18 23:00   \n3677                                             ,  2021-03-11 03:00   \n677                       N101,N101,N101,N101,N101  2021-07-10 06:00   \n...                                            ...               ...   \n3323  N101,N101,N101,N101,N101,N101,N101,N101,N101  2021-07-26 11:00   \n3994                     N101,N101,N101,N101,N101,  2021-03-23 20:00   \n2046                     N101,N101,N101,N101,N101,  2021-04-02 12:00   \n3290                     N101,N101,N101,N101,N101,  2021-03-26 06:00   \n2272            N101,N105,N101,N101,N206,N101,N101  2021-07-06 09:00   \n\n     luminosity  avg_temperature  avg_atm_pressure  avg_humidity  \\\n3256      LIGHT             24.0            1011.0          73.0   \n4699       DARK             15.0            1018.0          81.0   \n2502       DARK             15.0            1021.0          81.0   \n3677       DARK             11.0            1025.0          91.0   \n677   LOW_LIGHT             15.0            1017.0          69.0   \n...         ...              ...               ...           ...   \n3323      LIGHT             20.0            1016.0          43.0   \n3994       DARK             11.0            1023.0          82.0   \n2046      LIGHT             15.0            1018.0          80.0   \n3290       DARK              7.0            1013.0          83.0   \n2272      LIGHT             16.0            1016.0          81.0   \n\n      avg_wind_speed  avg_precipitation   avg_rain  \n3256             3.0                0.0  Sem Chuva  \n4699             0.0                0.0  Sem Chuva  \n2502             1.0                0.0  Sem Chuva  \n3677             1.0                0.0  Sem Chuva  \n677              1.0                0.0  Sem Chuva  \n...              ...                ...        ...  \n3323             1.0                0.0  Sem Chuva  \n3994             0.0                0.0  Sem Chuva  \n2046             1.0                0.0  Sem Chuva  \n3290             2.0                0.0  Sem Chuva  \n2272             2.0                0.0  Sem Chuva  \n\n[10140 rows x 12 columns]",
      "text/html": "<div>\n<style scoped>\n    .dataframe tbody tr th:only-of-type {\n        vertical-align: middle;\n    }\n\n    .dataframe tbody tr th {\n        vertical-align: top;\n    }\n\n    .dataframe thead th {\n        text-align: right;\n    }\n</style>\n<table border=\"1\" class=\"dataframe\">\n  <thead>\n    <tr style=\"text-align: right;\">\n      <th></th>\n      <th>city_name</th>\n      <th>magnitude_of_delay</th>\n      <th>delay_in_seconds</th>\n      <th>affected_roads</th>\n      <th>record_date</th>\n      <th>luminosity</th>\n      <th>avg_temperature</th>\n      <th>avg_atm_pressure</th>\n      <th>avg_humidity</th>\n      <th>avg_wind_speed</th>\n      <th>avg_precipitation</th>\n      <th>avg_rain</th>\n    </tr>\n  </thead>\n  <tbody>\n    <tr>\n      <th>3256</th>\n      <td>Guimaraes</td>\n      <td>UNDEFINED</td>\n      <td>0</td>\n      <td>N101,N101,N101,N101,N101</td>\n      <td>2021-09-13 16:00</td>\n      <td>LIGHT</td>\n      <td>24.0</td>\n      <td>1011.0</td>\n      <td>73.0</td>\n      <td>3.0</td>\n      <td>0.0</td>\n      <td>Sem Chuva</td>\n    </tr>\n    <tr>\n      <th>4699</th>\n      <td>Guimaraes</td>\n      <td>UNDEFINED</td>\n      <td>0</td>\n      <td>N101,N101,N101,N101,N101</td>\n      <td>2021-10-16 03:00</td>\n      <td>DARK</td>\n      <td>15.0</td>\n      <td>1018.0</td>\n      <td>81.0</td>\n      <td>0.0</td>\n      <td>0.0</td>\n      <td>Sem Chuva</td>\n    </tr>\n    <tr>\n      <th>2502</th>\n      <td>Guimaraes</td>\n      <td>UNDEFINED</td>\n      <td>0</td>\n      <td>N101,N101,N101,N101,N101</td>\n      <td>2021-09-18 23:00</td>\n      <td>DARK</td>\n      <td>15.0</td>\n      <td>1021.0</td>\n      <td>81.0</td>\n      <td>1.0</td>\n      <td>0.0</td>\n      <td>Sem Chuva</td>\n    </tr>\n    <tr>\n      <th>3677</th>\n      <td>Guimaraes</td>\n      <td>UNDEFINED</td>\n      <td>0</td>\n      <td>,</td>\n      <td>2021-03-11 03:00</td>\n      <td>DARK</td>\n      <td>11.0</td>\n      <td>1025.0</td>\n      <td>91.0</td>\n      <td>1.0</td>\n      <td>0.0</td>\n      <td>Sem Chuva</td>\n    </tr>\n    <tr>\n      <th>677</th>\n      <td>Guimaraes</td>\n      <td>UNDEFINED</td>\n      <td>0</td>\n      <td>N101,N101,N101,N101,N101</td>\n      <td>2021-07-10 06:00</td>\n      <td>LOW_LIGHT</td>\n      <td>15.0</td>\n      <td>1017.0</td>\n      <td>69.0</td>\n      <td>1.0</td>\n      <td>0.0</td>\n      <td>Sem Chuva</td>\n    </tr>\n    <tr>\n      <th>...</th>\n      <td>...</td>\n      <td>...</td>\n      <td>...</td>\n      <td>...</td>\n      <td>...</td>\n      <td>...</td>\n      <td>...</td>\n      <td>...</td>\n      <td>...</td>\n      <td>...</td>\n      <td>...</td>\n      <td>...</td>\n    </tr>\n    <tr>\n      <th>3323</th>\n      <td>Guimaraes</td>\n      <td>UNDEFINED</td>\n      <td>815</td>\n      <td>N101,N101,N101,N101,N101,N101,N101,N101,N101</td>\n      <td>2021-07-26 11:00</td>\n      <td>LIGHT</td>\n      <td>20.0</td>\n      <td>1016.0</td>\n      <td>43.0</td>\n      <td>1.0</td>\n      <td>0.0</td>\n      <td>Sem Chuva</td>\n    </tr>\n    <tr>\n      <th>3994</th>\n      <td>Guimaraes</td>\n      <td>UNDEFINED</td>\n      <td>0</td>\n      <td>N101,N101,N101,N101,N101,</td>\n      <td>2021-03-23 20:00</td>\n      <td>DARK</td>\n      <td>11.0</td>\n      <td>1023.0</td>\n      <td>82.0</td>\n      <td>0.0</td>\n      <td>0.0</td>\n      <td>Sem Chuva</td>\n    </tr>\n    <tr>\n      <th>2046</th>\n      <td>Guimaraes</td>\n      <td>UNDEFINED</td>\n      <td>0</td>\n      <td>N101,N101,N101,N101,N101,</td>\n      <td>2021-04-02 12:00</td>\n      <td>LIGHT</td>\n      <td>15.0</td>\n      <td>1018.0</td>\n      <td>80.0</td>\n      <td>1.0</td>\n      <td>0.0</td>\n      <td>Sem Chuva</td>\n    </tr>\n    <tr>\n      <th>3290</th>\n      <td>Guimaraes</td>\n      <td>UNDEFINED</td>\n      <td>0</td>\n      <td>N101,N101,N101,N101,N101,</td>\n      <td>2021-03-26 06:00</td>\n      <td>DARK</td>\n      <td>7.0</td>\n      <td>1013.0</td>\n      <td>83.0</td>\n      <td>2.0</td>\n      <td>0.0</td>\n      <td>Sem Chuva</td>\n    </tr>\n    <tr>\n      <th>2272</th>\n      <td>Guimaraes</td>\n      <td>MAJOR</td>\n      <td>948</td>\n      <td>N101,N105,N101,N101,N206,N101,N101</td>\n      <td>2021-07-06 09:00</td>\n      <td>LIGHT</td>\n      <td>16.0</td>\n      <td>1016.0</td>\n      <td>81.0</td>\n      <td>2.0</td>\n      <td>0.0</td>\n      <td>Sem Chuva</td>\n    </tr>\n  </tbody>\n</table>\n<p>10140 rows × 12 columns</p>\n</div>"
     },
     "execution_count": 37,
     "metadata": {},
     "output_type": "execute_result"
    }
   ],
   "source": [
    "features"
   ],
   "metadata": {
    "collapsed": false
   }
  },
  {
   "cell_type": "markdown",
   "source": [
    "### Obtenção das features numericas e categoricas"
   ],
   "metadata": {
    "collapsed": false
   }
  },
  {
   "cell_type": "code",
   "execution_count": 38,
   "outputs": [],
   "source": [
    "dropped_columns = ['city_name', 'avg_precipitation', 'magnitude_of_delay', 'record_date']\n",
    "\n",
    "numerical_features = [column for column, dtype in zip(features.columns, features.dtypes)\n",
    "                      if dtype.kind in ['i', 'f']]\n",
    "\n",
    "categorical_features = [column for column, dtype in zip(features.columns, features.dtypes)\n",
    "                        if\n",
    "                        dtype.kind not in ['i', 'f'] and column not in ['affected_roads', 'record_date']]"
   ],
   "metadata": {
    "collapsed": false
   }
  },
  {
   "cell_type": "code",
   "execution_count": 39,
   "outputs": [
    {
     "name": "stdout",
     "output_type": "stream",
     "text": [
      "['delay_in_seconds', 'avg_temperature', 'avg_atm_pressure', 'avg_humidity', 'avg_wind_speed', 'avg_precipitation']\n"
     ]
    },
    {
     "data": {
      "text/plain": "12"
     },
     "execution_count": 39,
     "metadata": {},
     "output_type": "execute_result"
    }
   ],
   "source": [
    "print(numerical_features)\n",
    "len(all_features)"
   ],
   "metadata": {
    "collapsed": false
   }
  },
  {
   "cell_type": "markdown",
   "source": [
    "### Divisão dos dados em dados de teste e treino"
   ],
   "metadata": {
    "collapsed": false
   }
  },
  {
   "cell_type": "code",
   "execution_count": 40,
   "outputs": [],
   "source": [
    "X_train, X_test, y_train, y_test = train_test_split(features, target, test_size=0.3, random_state=2000)"
   ],
   "metadata": {
    "collapsed": false
   }
  },
  {
   "cell_type": "markdown",
   "source": [
    "#### Criação de steps para tratar da remoção de features\n"
   ],
   "metadata": {
    "collapsed": false
   }
  },
  {
   "cell_type": "code",
   "execution_count": 41,
   "outputs": [],
   "source": [
    "# noinspection PyPep8Naming,PyMethodMayBeStatic\n",
    "class ColumnsRemovalTransformer(BaseEstimator, TransformerMixin):\n",
    "    def __init__(self):\n",
    "        pass\n",
    "\n",
    "    def fit(self, X, y=None):\n",
    "        return self\n",
    "\n",
    "    def transform(self, X: DataFrame, y=None):\n",
    "        X_ = X.copy()\n",
    "\n",
    "        X_.drop(columns=dropped_columns, inplace=True)\n",
    "\n",
    "        return X_"
   ],
   "metadata": {
    "collapsed": false
   }
  },
  {
   "cell_type": "markdown",
   "source": [
    "#### Criação de steps para tratar da feature `record_date`"
   ],
   "metadata": {
    "collapsed": false
   }
  },
  {
   "cell_type": "code",
   "execution_count": 42,
   "outputs": [],
   "source": [
    "# noinspection PyPep8Naming,PyMethodMayBeStatic\n",
    "class RecordDateTransformer(BaseEstimator, TransformerMixin):\n",
    "    def __init__(self):\n",
    "        pass\n",
    "\n",
    "    def fit(self, X, y=None):\n",
    "        return self\n",
    "\n",
    "    def transform(self, X: DataFrame, y=None):\n",
    "        X_ = X.copy()\n",
    "\n",
    "        ### Extrair a hora e dia da semana da feature 'record_date'\n",
    "        record_date = pd.DatetimeIndex(X_['record_date'])\n",
    "\n",
    "        X_['hour'] = record_date.hour\n",
    "        X_['day'] = record_date.day\n",
    "        X_['month'] = record_date.month\n",
    "        X_['weekday'] = record_date.weekday\n",
    "\n",
    "        X_.drop(columns=['record_date'], inplace=True)\n",
    "\n",
    "        imputer = SimpleImputer(strategy='median')\n",
    "        scaler = MinMaxScaler()\n",
    "\n",
    "        imputer.fit(X_)\n",
    "        X_ = imputer.transform(X_)\n",
    "\n",
    "        scaler.fit(X_)\n",
    "        X_ = scaler.transform(X_)\n",
    "\n",
    "        return X_"
   ],
   "metadata": {
    "collapsed": false
   }
  },
  {
   "cell_type": "markdown",
   "source": [
    "#### Criação de steps para tratar da feature `affected_roads`"
   ],
   "metadata": {
    "collapsed": false
   }
  },
  {
   "cell_type": "code",
   "execution_count": 43,
   "outputs": [],
   "source": [
    "# noinspection PyPep8Naming,PyMethodMayBeStatic\n",
    "class AffectedRoadsTransformer(BaseEstimator, TransformerMixin):\n",
    "    def __init__(self):\n",
    "        pass\n",
    "\n",
    "    def fit(self, X, y=None):\n",
    "        return self\n",
    "\n",
    "    def transform(self, X: DataFrame, y=None):\n",
    "        X_ = X.copy()\n",
    "\n",
    "        road_quantity = []\n",
    "        for line in X_['affected_roads']:\n",
    "            unique_roads = set(str(line).split(','))\n",
    "            valid_roads = [elem for elem in unique_roads if elem != '']\n",
    "            count = len(valid_roads)\n",
    "            road_quantity.append(count)\n",
    "\n",
    "        X_['num_affected_roads'] = road_quantity\n",
    "        X_.drop(columns=['affected_roads'], inplace=True)\n",
    "\n",
    "        imputer = SimpleImputer(strategy='median')\n",
    "        scaler = MinMaxScaler()\n",
    "\n",
    "        imputer.fit(X_)\n",
    "        X_ = imputer.transform(X_)\n",
    "\n",
    "        scaler.fit(X_)\n",
    "        X_ = scaler.transform(X_)\n",
    "\n",
    "        return X_"
   ],
   "metadata": {
    "collapsed": false
   }
  },
  {
   "cell_type": "markdown",
   "source": [
    "### Pipeline de preparação de dados"
   ],
   "metadata": {
    "collapsed": false
   }
  },
  {
   "cell_type": "code",
   "execution_count": 44,
   "outputs": [],
   "source": [
    "from sklearn.preprocessing import KBinsDiscretizer\n",
    "\n",
    "preprocessor = make_column_transformer(\n",
    "    (make_pipeline(\n",
    "        AffectedRoadsTransformer()\n",
    "    ), ['affected_roads']),\n",
    "\n",
    "    (make_pipeline(\n",
    "        RecordDateTransformer()\n",
    "    ), ['record_date']),\n",
    "\n",
    "    #(make_pipeline(\n",
    "    #    ColumnsRemovalTransformer()\n",
    "    #), dropped_columns),\n",
    "\n",
    "    (make_pipeline(\n",
    "        SimpleImputer(strategy='median'),\n",
    "        MinMaxScaler(),\n",
    "        KBinsDiscretizer(n_bins=4, encode='ordinal', strategy='quantile', random_state=1000),\n",
    "    ), numerical_features),\n",
    "\n",
    "    (make_pipeline(\n",
    "        SimpleImputer(strategy='constant', fill_value='missing'),\n",
    "        OneHotEncoder(categories='auto', handle_unknown='ignore'),\n",
    "    ), categorical_features),\n",
    ")"
   ],
   "metadata": {
    "collapsed": false
   }
  },
  {
   "cell_type": "code",
   "execution_count": 45,
   "outputs": [
    {
     "data": {
      "text/plain": "      city_name magnitude_of_delay  delay_in_seconds  \\\n309   Guimaraes          UNDEFINED              2268   \n4981  Guimaraes          UNDEFINED               171   \n1605  Guimaraes          UNDEFINED                 0   \n3748  Guimaraes          UNDEFINED               122   \n2746  Guimaraes              MAJOR              2360   \n...         ...                ...               ...   \n4557  Guimaraes          UNDEFINED                 0   \n2621  Guimaraes          UNDEFINED               340   \n2367  Guimaraes          UNDEFINED                 0   \n3228  Guimaraes          UNDEFINED                 0   \n1164  Guimaraes          UNDEFINED                 0   \n\n                      affected_roads       record_date luminosity  \\\n309         N101,N101,N101,N101,N101  2021-10-31 00:00       DARK   \n4981        N101,N101,N101,N101,N101  2021-10-23 10:00      LIGHT   \n1605       N101,N101,N101,N101,N101,  2021-04-15 01:00       DARK   \n3748                             NaN  2021-03-08 20:00       DARK   \n2746  N101,N101,N105,N101,N105,N105,  2021-12-24 13:00      LIGHT   \n...                              ...               ...        ...   \n4557       N101,N101,N101,N101,N101,  2021-06-20 11:00      LIGHT   \n2621   N101,N101,N101,N101,N101,N101  2021-10-30 13:00      LIGHT   \n2367                       N101,N101  2021-12-09 02:00       DARK   \n3228       N101,N101,N101,N101,N101,  2021-06-07 23:00       DARK   \n1164                               ,  2021-01-19 04:00       DARK   \n\n      avg_temperature  avg_atm_pressure  avg_humidity  avg_wind_speed  \\\n309              15.0            1008.0          91.0             1.0   \n4981             16.0            1022.0          61.0             1.0   \n1605             14.0            1012.0          75.0             2.0   \n3748             11.0            1013.0          57.0             3.0   \n2746             12.0            1006.0          90.0             2.0   \n...               ...               ...           ...             ...   \n4557             16.0            1010.0          83.0             0.0   \n2621             17.0            1008.0          88.0             2.0   \n2367              8.0            1024.0          93.0             1.0   \n3228             15.0            1022.0          81.0             0.0   \n1164              4.0            1023.0          87.0             4.0   \n\n      avg_precipitation     avg_rain  \n309                 0.0  chuva fraca  \n4981                0.0    Sem Chuva  \n1605                0.0    Sem Chuva  \n3748                0.0    Sem Chuva  \n2746                0.0    Sem Chuva  \n...                 ...          ...  \n4557                0.0    Sem Chuva  \n2621                0.0    Sem Chuva  \n2367                0.0    Sem Chuva  \n3228                0.0  chuva fraca  \n1164                0.0    Sem Chuva  \n\n[7098 rows x 12 columns]",
      "text/html": "<div>\n<style scoped>\n    .dataframe tbody tr th:only-of-type {\n        vertical-align: middle;\n    }\n\n    .dataframe tbody tr th {\n        vertical-align: top;\n    }\n\n    .dataframe thead th {\n        text-align: right;\n    }\n</style>\n<table border=\"1\" class=\"dataframe\">\n  <thead>\n    <tr style=\"text-align: right;\">\n      <th></th>\n      <th>city_name</th>\n      <th>magnitude_of_delay</th>\n      <th>delay_in_seconds</th>\n      <th>affected_roads</th>\n      <th>record_date</th>\n      <th>luminosity</th>\n      <th>avg_temperature</th>\n      <th>avg_atm_pressure</th>\n      <th>avg_humidity</th>\n      <th>avg_wind_speed</th>\n      <th>avg_precipitation</th>\n      <th>avg_rain</th>\n    </tr>\n  </thead>\n  <tbody>\n    <tr>\n      <th>309</th>\n      <td>Guimaraes</td>\n      <td>UNDEFINED</td>\n      <td>2268</td>\n      <td>N101,N101,N101,N101,N101</td>\n      <td>2021-10-31 00:00</td>\n      <td>DARK</td>\n      <td>15.0</td>\n      <td>1008.0</td>\n      <td>91.0</td>\n      <td>1.0</td>\n      <td>0.0</td>\n      <td>chuva fraca</td>\n    </tr>\n    <tr>\n      <th>4981</th>\n      <td>Guimaraes</td>\n      <td>UNDEFINED</td>\n      <td>171</td>\n      <td>N101,N101,N101,N101,N101</td>\n      <td>2021-10-23 10:00</td>\n      <td>LIGHT</td>\n      <td>16.0</td>\n      <td>1022.0</td>\n      <td>61.0</td>\n      <td>1.0</td>\n      <td>0.0</td>\n      <td>Sem Chuva</td>\n    </tr>\n    <tr>\n      <th>1605</th>\n      <td>Guimaraes</td>\n      <td>UNDEFINED</td>\n      <td>0</td>\n      <td>N101,N101,N101,N101,N101,</td>\n      <td>2021-04-15 01:00</td>\n      <td>DARK</td>\n      <td>14.0</td>\n      <td>1012.0</td>\n      <td>75.0</td>\n      <td>2.0</td>\n      <td>0.0</td>\n      <td>Sem Chuva</td>\n    </tr>\n    <tr>\n      <th>3748</th>\n      <td>Guimaraes</td>\n      <td>UNDEFINED</td>\n      <td>122</td>\n      <td>NaN</td>\n      <td>2021-03-08 20:00</td>\n      <td>DARK</td>\n      <td>11.0</td>\n      <td>1013.0</td>\n      <td>57.0</td>\n      <td>3.0</td>\n      <td>0.0</td>\n      <td>Sem Chuva</td>\n    </tr>\n    <tr>\n      <th>2746</th>\n      <td>Guimaraes</td>\n      <td>MAJOR</td>\n      <td>2360</td>\n      <td>N101,N101,N105,N101,N105,N105,</td>\n      <td>2021-12-24 13:00</td>\n      <td>LIGHT</td>\n      <td>12.0</td>\n      <td>1006.0</td>\n      <td>90.0</td>\n      <td>2.0</td>\n      <td>0.0</td>\n      <td>Sem Chuva</td>\n    </tr>\n    <tr>\n      <th>...</th>\n      <td>...</td>\n      <td>...</td>\n      <td>...</td>\n      <td>...</td>\n      <td>...</td>\n      <td>...</td>\n      <td>...</td>\n      <td>...</td>\n      <td>...</td>\n      <td>...</td>\n      <td>...</td>\n      <td>...</td>\n    </tr>\n    <tr>\n      <th>4557</th>\n      <td>Guimaraes</td>\n      <td>UNDEFINED</td>\n      <td>0</td>\n      <td>N101,N101,N101,N101,N101,</td>\n      <td>2021-06-20 11:00</td>\n      <td>LIGHT</td>\n      <td>16.0</td>\n      <td>1010.0</td>\n      <td>83.0</td>\n      <td>0.0</td>\n      <td>0.0</td>\n      <td>Sem Chuva</td>\n    </tr>\n    <tr>\n      <th>2621</th>\n      <td>Guimaraes</td>\n      <td>UNDEFINED</td>\n      <td>340</td>\n      <td>N101,N101,N101,N101,N101,N101</td>\n      <td>2021-10-30 13:00</td>\n      <td>LIGHT</td>\n      <td>17.0</td>\n      <td>1008.0</td>\n      <td>88.0</td>\n      <td>2.0</td>\n      <td>0.0</td>\n      <td>Sem Chuva</td>\n    </tr>\n    <tr>\n      <th>2367</th>\n      <td>Guimaraes</td>\n      <td>UNDEFINED</td>\n      <td>0</td>\n      <td>N101,N101</td>\n      <td>2021-12-09 02:00</td>\n      <td>DARK</td>\n      <td>8.0</td>\n      <td>1024.0</td>\n      <td>93.0</td>\n      <td>1.0</td>\n      <td>0.0</td>\n      <td>Sem Chuva</td>\n    </tr>\n    <tr>\n      <th>3228</th>\n      <td>Guimaraes</td>\n      <td>UNDEFINED</td>\n      <td>0</td>\n      <td>N101,N101,N101,N101,N101,</td>\n      <td>2021-06-07 23:00</td>\n      <td>DARK</td>\n      <td>15.0</td>\n      <td>1022.0</td>\n      <td>81.0</td>\n      <td>0.0</td>\n      <td>0.0</td>\n      <td>chuva fraca</td>\n    </tr>\n    <tr>\n      <th>1164</th>\n      <td>Guimaraes</td>\n      <td>UNDEFINED</td>\n      <td>0</td>\n      <td>,</td>\n      <td>2021-01-19 04:00</td>\n      <td>DARK</td>\n      <td>4.0</td>\n      <td>1023.0</td>\n      <td>87.0</td>\n      <td>4.0</td>\n      <td>0.0</td>\n      <td>Sem Chuva</td>\n    </tr>\n  </tbody>\n</table>\n<p>7098 rows × 12 columns</p>\n</div>"
     },
     "execution_count": 45,
     "metadata": {},
     "output_type": "execute_result"
    }
   ],
   "source": [
    "X_train"
   ],
   "metadata": {
    "collapsed": false
   }
  },
  {
   "cell_type": "code",
   "execution_count": 46,
   "outputs": [
    {
     "name": "stderr",
     "output_type": "stream",
     "text": [
      "C:\\Users\\gonca\\.conda\\envs\\DAA\\lib\\site-packages\\sklearn\\preprocessing\\_discretization.py:291: UserWarning: Bins whose width are too small (i.e., <= 1e-8) in feature 0 are removed. Consider decreasing the number of bins.\n",
      "  warnings.warn(\n",
      "C:\\Users\\gonca\\.conda\\envs\\DAA\\lib\\site-packages\\sklearn\\preprocessing\\_discretization.py:291: UserWarning: Bins whose width are too small (i.e., <= 1e-8) in feature 4 are removed. Consider decreasing the number of bins.\n",
      "  warnings.warn(\n",
      "C:\\Users\\gonca\\.conda\\envs\\DAA\\lib\\site-packages\\sklearn\\preprocessing\\_discretization.py:257: UserWarning: Feature 5 is constant and will be replaced with 0.\n",
      "  warnings.warn(\n"
     ]
    },
    {
     "data": {
      "text/plain": "array([[0.125     , 0.        , 1.        , ..., 0.        , 1.        ,\n        0.        ],\n       [0.125     , 0.43478261, 0.73333333, ..., 0.        , 0.        ,\n        0.        ],\n       [0.125     , 0.04347826, 0.46666667, ..., 0.        , 0.        ,\n        0.        ],\n       ...,\n       [0.125     , 0.08695652, 0.26666667, ..., 0.        , 0.        ,\n        0.        ],\n       [0.125     , 1.        , 0.2       , ..., 0.        , 1.        ,\n        0.        ],\n       [0.        , 0.17391304, 0.6       , ..., 0.        , 0.        ,\n        0.        ]])"
     },
     "execution_count": 46,
     "metadata": {},
     "output_type": "execute_result"
    }
   ],
   "source": [
    "preprocessor.fit(X_train)\n",
    "preprocessor.transform(X_train)"
   ],
   "metadata": {
    "collapsed": false
   }
  },
  {
   "cell_type": "code",
   "execution_count": 47,
   "outputs": [],
   "source": [
    "from sklearn.feature_selection import SelectKBest, VarianceThreshold, f_classif\n",
    "\n",
    "preprocessor_best = make_pipeline(preprocessor)  #, VarianceThreshold(), SelectKBest(f_classif, k='all'))"
   ],
   "metadata": {
    "collapsed": false
   }
  },
  {
   "cell_type": "code",
   "execution_count": 48,
   "outputs": [],
   "source": [
    "from sklearn.ensemble import RandomForestClassifier\n",
    "\n",
    "RF_Model = make_pipeline(preprocessor_best,\n",
    "                         RandomForestClassifier(n_estimators=50, max_leaf_nodes=18, min_samples_leaf=5,\n",
    "                                                max_features='sqrt', max_depth=20, n_jobs=-1, bootstrap=True, random_state=1000))"
   ],
   "metadata": {
    "collapsed": false
   }
  },
  {
   "cell_type": "code",
   "execution_count": 49,
   "outputs": [
    {
     "name": "stderr",
     "output_type": "stream",
     "text": [
      "C:\\Users\\gonca\\.conda\\envs\\DAA\\lib\\site-packages\\sklearn\\preprocessing\\_discretization.py:291: UserWarning: Bins whose width are too small (i.e., <= 1e-8) in feature 0 are removed. Consider decreasing the number of bins.\n",
      "  warnings.warn(\n",
      "C:\\Users\\gonca\\.conda\\envs\\DAA\\lib\\site-packages\\sklearn\\preprocessing\\_discretization.py:291: UserWarning: Bins whose width are too small (i.e., <= 1e-8) in feature 4 are removed. Consider decreasing the number of bins.\n",
      "  warnings.warn(\n",
      "C:\\Users\\gonca\\.conda\\envs\\DAA\\lib\\site-packages\\sklearn\\preprocessing\\_discretization.py:257: UserWarning: Feature 5 is constant and will be replaced with 0.\n",
      "  warnings.warn(\n"
     ]
    },
    {
     "data": {
      "text/plain": "0.702451394759087"
     },
     "execution_count": 49,
     "metadata": {},
     "output_type": "execute_result"
    }
   ],
   "source": [
    "RF_Model.fit(X_train, y_train)\n",
    "RF_Model.score(X_train, y_train)"
   ],
   "metadata": {
    "collapsed": false
   }
  },
  {
   "cell_type": "code",
   "execution_count": 50,
   "outputs": [
    {
     "data": {
      "text/plain": "0.703155818540434"
     },
     "execution_count": 50,
     "metadata": {},
     "output_type": "execute_result"
    }
   ],
   "source": [
    "RF_Model.score(X_test, y_test)"
   ],
   "metadata": {
    "collapsed": false
   }
  },
  {
   "cell_type": "markdown",
   "source": [
    "## Hyperparameter Tuning"
   ],
   "metadata": {
    "collapsed": false
   }
  },
  {
   "cell_type": "code",
   "execution_count": 51,
   "outputs": [],
   "source": [
    "import numpy as np\n",
    "\n",
    "n_estimators = [int(x) for x in np.linspace(start=10, stop=50, num=2)]\n",
    "\n",
    "max_features = [int(x) for x in np.linspace(start=2, stop=12, num=3)]\n",
    "\n",
    "max_depth = [int(x) for x in np.linspace(start=10, stop=100, num=5)]\n",
    "\n",
    "min_samples_split = [int(x) for x in np.linspace(start=2, stop=30, num=2)]  #[2, 5, 10, 20]\n",
    "\n",
    "min_samples_leaf = [int(x) for x in np.linspace(start=2, stop=30, num=2)]  # [1, 2, 5, 10]\n",
    "\n",
    "max_leaf_nodes = [int(x) for x in np.linspace(start=20, stop=80, num=2)]\n",
    "\n",
    "bootstrap = [True, False]\n",
    "\n",
    "criterions = [\"gini\", \"entropy\", \"log_loss\"]"
   ],
   "metadata": {
    "collapsed": false
   }
  },
  {
   "cell_type": "code",
   "execution_count": 52,
   "outputs": [
    {
     "data": {
      "text/plain": "{'randomforestclassifier__n_estimators': [10, 50],\n 'randomforestclassifier__max_features': [2, 7, 12],\n 'randomforestclassifier__max_depth': [10, 32, 55, 77, 100],\n 'randomforestclassifier__min_samples_split': [2, 30],\n 'randomforestclassifier__min_samples_leaf': [2, 30],\n 'randomforestclassifier__max_leaf_nodes': [20, 80],\n 'randomforestclassifier__bootstrap': [True, False],\n 'randomforestclassifier__criterion': ['gini', 'entropy', 'log_loss']}"
     },
     "execution_count": 52,
     "metadata": {},
     "output_type": "execute_result"
    }
   ],
   "source": [
    "param_grid = {\n",
    "    'randomforestclassifier__n_estimators': n_estimators,\n",
    "    'randomforestclassifier__max_features': max_features,\n",
    "    'randomforestclassifier__max_depth': max_depth,\n",
    "    'randomforestclassifier__min_samples_split': min_samples_split,\n",
    "    'randomforestclassifier__min_samples_leaf': min_samples_leaf,\n",
    "    'randomforestclassifier__max_leaf_nodes': max_leaf_nodes,\n",
    "    'randomforestclassifier__bootstrap': bootstrap,\n",
    "    'randomforestclassifier__criterion': criterions\n",
    "}\n",
    "\n",
    "param_grid"
   ],
   "metadata": {
    "collapsed": false
   }
  },
  {
   "cell_type": "code",
   "execution_count": 53,
   "outputs": [],
   "source": [
    "from sklearn.model_selection import GridSearchCV\n",
    "\n",
    "rf_RandomGrid = RandomizedSearchCV(estimator=RF_Model, param_distributions=param_grid, cv=10, verbose=1, n_jobs=-2,\n",
    "                                   n_iter=50, random_state=1000, scoring='balanced_accuracy')\n",
    "\n",
    "\n",
    "#rf_RandomGrid = GridSearchCV(estimator=RF_Model, param_grid=param_grid, cv=10, verbose=1, n_jobs=-1, scoring='balanced_accuracy')"
   ],
   "metadata": {
    "collapsed": false
   }
  },
  {
   "cell_type": "code",
   "execution_count": 54,
   "outputs": [
    {
     "name": "stdout",
     "output_type": "stream",
     "text": [
      "Fitting 10 folds for each of 50 candidates, totalling 500 fits\n"
     ]
    },
    {
     "name": "stderr",
     "output_type": "stream",
     "text": [
      "C:\\Users\\gonca\\.conda\\envs\\DAA\\lib\\site-packages\\sklearn\\preprocessing\\_discretization.py:291: UserWarning: Bins whose width are too small (i.e., <= 1e-8) in feature 0 are removed. Consider decreasing the number of bins.\n",
      "  warnings.warn(\n",
      "C:\\Users\\gonca\\.conda\\envs\\DAA\\lib\\site-packages\\sklearn\\preprocessing\\_discretization.py:291: UserWarning: Bins whose width are too small (i.e., <= 1e-8) in feature 4 are removed. Consider decreasing the number of bins.\n",
      "  warnings.warn(\n",
      "C:\\Users\\gonca\\.conda\\envs\\DAA\\lib\\site-packages\\sklearn\\preprocessing\\_discretization.py:257: UserWarning: Feature 5 is constant and will be replaced with 0.\n",
      "  warnings.warn(\n"
     ]
    },
    {
     "name": "stdout",
     "output_type": "stream",
     "text": [
      "CPU times: total: 4.05 s\n",
      "Wall time: 12.1 s\n"
     ]
    },
    {
     "data": {
      "text/plain": "RandomizedSearchCV(cv=10,\n                   estimator=Pipeline(steps=[('pipeline',\n                                              Pipeline(steps=[('columntransformer',\n                                                               ColumnTransformer(transformers=[('pipeline-1',\n                                                                                                Pipeline(steps=[('affectedroadstransformer',\n                                                                                                                 AffectedRoadsTransformer())]),\n                                                                                                ['affected_roads']),\n                                                                                               ('pipeline-2',\n                                                                                                Pipeline(steps=[('recorddatetransformer',\n                                                                                                                 RecordDateTransformer())]),\n                                                                                                ['record_date']),\n                                                                                               ('pipeline-...\n                                        'randomforestclassifier__max_depth': [10,\n                                                                              32,\n                                                                              55,\n                                                                              77,\n                                                                              100],\n                                        'randomforestclassifier__max_features': [2,\n                                                                                 7,\n                                                                                 12],\n                                        'randomforestclassifier__max_leaf_nodes': [20,\n                                                                                   80],\n                                        'randomforestclassifier__min_samples_leaf': [2,\n                                                                                     30],\n                                        'randomforestclassifier__min_samples_split': [2,\n                                                                                      30],\n                                        'randomforestclassifier__n_estimators': [10,\n                                                                                 50]},\n                   random_state=1000, scoring='balanced_accuracy', verbose=1)",
      "text/html": "<style>#sk-container-id-3 {color: black;background-color: white;}#sk-container-id-3 pre{padding: 0;}#sk-container-id-3 div.sk-toggleable {background-color: white;}#sk-container-id-3 label.sk-toggleable__label {cursor: pointer;display: block;width: 100%;margin-bottom: 0;padding: 0.3em;box-sizing: border-box;text-align: center;}#sk-container-id-3 label.sk-toggleable__label-arrow:before {content: \"▸\";float: left;margin-right: 0.25em;color: #696969;}#sk-container-id-3 label.sk-toggleable__label-arrow:hover:before {color: black;}#sk-container-id-3 div.sk-estimator:hover label.sk-toggleable__label-arrow:before {color: black;}#sk-container-id-3 div.sk-toggleable__content {max-height: 0;max-width: 0;overflow: hidden;text-align: left;background-color: #f0f8ff;}#sk-container-id-3 div.sk-toggleable__content pre {margin: 0.2em;color: black;border-radius: 0.25em;background-color: #f0f8ff;}#sk-container-id-3 input.sk-toggleable__control:checked~div.sk-toggleable__content {max-height: 200px;max-width: 100%;overflow: auto;}#sk-container-id-3 input.sk-toggleable__control:checked~label.sk-toggleable__label-arrow:before {content: \"▾\";}#sk-container-id-3 div.sk-estimator input.sk-toggleable__control:checked~label.sk-toggleable__label {background-color: #d4ebff;}#sk-container-id-3 div.sk-label input.sk-toggleable__control:checked~label.sk-toggleable__label {background-color: #d4ebff;}#sk-container-id-3 input.sk-hidden--visually {border: 0;clip: rect(1px 1px 1px 1px);clip: rect(1px, 1px, 1px, 1px);height: 1px;margin: -1px;overflow: hidden;padding: 0;position: absolute;width: 1px;}#sk-container-id-3 div.sk-estimator {font-family: monospace;background-color: #f0f8ff;border: 1px dotted black;border-radius: 0.25em;box-sizing: border-box;margin-bottom: 0.5em;}#sk-container-id-3 div.sk-estimator:hover {background-color: #d4ebff;}#sk-container-id-3 div.sk-parallel-item::after {content: \"\";width: 100%;border-bottom: 1px solid gray;flex-grow: 1;}#sk-container-id-3 div.sk-label:hover label.sk-toggleable__label {background-color: #d4ebff;}#sk-container-id-3 div.sk-serial::before {content: \"\";position: absolute;border-left: 1px solid gray;box-sizing: border-box;top: 0;bottom: 0;left: 50%;z-index: 0;}#sk-container-id-3 div.sk-serial {display: flex;flex-direction: column;align-items: center;background-color: white;padding-right: 0.2em;padding-left: 0.2em;position: relative;}#sk-container-id-3 div.sk-item {position: relative;z-index: 1;}#sk-container-id-3 div.sk-parallel {display: flex;align-items: stretch;justify-content: center;background-color: white;position: relative;}#sk-container-id-3 div.sk-item::before, #sk-container-id-3 div.sk-parallel-item::before {content: \"\";position: absolute;border-left: 1px solid gray;box-sizing: border-box;top: 0;bottom: 0;left: 50%;z-index: -1;}#sk-container-id-3 div.sk-parallel-item {display: flex;flex-direction: column;z-index: 1;position: relative;background-color: white;}#sk-container-id-3 div.sk-parallel-item:first-child::after {align-self: flex-end;width: 50%;}#sk-container-id-3 div.sk-parallel-item:last-child::after {align-self: flex-start;width: 50%;}#sk-container-id-3 div.sk-parallel-item:only-child::after {width: 0;}#sk-container-id-3 div.sk-dashed-wrapped {border: 1px dashed gray;margin: 0 0.4em 0.5em 0.4em;box-sizing: border-box;padding-bottom: 0.4em;background-color: white;}#sk-container-id-3 div.sk-label label {font-family: monospace;font-weight: bold;display: inline-block;line-height: 1.2em;}#sk-container-id-3 div.sk-label-container {text-align: center;}#sk-container-id-3 div.sk-container {/* jupyter's `normalize.less` sets `[hidden] { display: none; }` but bootstrap.min.css set `[hidden] { display: none !important; }` so we also need the `!important` here to be able to override the default hidden behavior on the sphinx rendered scikit-learn.org. See: https://github.com/scikit-learn/scikit-learn/issues/21755 */display: inline-block !important;position: relative;}#sk-container-id-3 div.sk-text-repr-fallback {display: none;}</style><div id=\"sk-container-id-3\" class=\"sk-top-container\"><div class=\"sk-text-repr-fallback\"><pre>RandomizedSearchCV(cv=10,\n                   estimator=Pipeline(steps=[(&#x27;pipeline&#x27;,\n                                              Pipeline(steps=[(&#x27;columntransformer&#x27;,\n                                                               ColumnTransformer(transformers=[(&#x27;pipeline-1&#x27;,\n                                                                                                Pipeline(steps=[(&#x27;affectedroadstransformer&#x27;,\n                                                                                                                 AffectedRoadsTransformer())]),\n                                                                                                [&#x27;affected_roads&#x27;]),\n                                                                                               (&#x27;pipeline-2&#x27;,\n                                                                                                Pipeline(steps=[(&#x27;recorddatetransformer&#x27;,\n                                                                                                                 RecordDateTransformer())]),\n                                                                                                [&#x27;record_date&#x27;]),\n                                                                                               (&#x27;pipeline-...\n                                        &#x27;randomforestclassifier__max_depth&#x27;: [10,\n                                                                              32,\n                                                                              55,\n                                                                              77,\n                                                                              100],\n                                        &#x27;randomforestclassifier__max_features&#x27;: [2,\n                                                                                 7,\n                                                                                 12],\n                                        &#x27;randomforestclassifier__max_leaf_nodes&#x27;: [20,\n                                                                                   80],\n                                        &#x27;randomforestclassifier__min_samples_leaf&#x27;: [2,\n                                                                                     30],\n                                        &#x27;randomforestclassifier__min_samples_split&#x27;: [2,\n                                                                                      30],\n                                        &#x27;randomforestclassifier__n_estimators&#x27;: [10,\n                                                                                 50]},\n                   random_state=1000, scoring=&#x27;balanced_accuracy&#x27;, verbose=1)</pre><b>In a Jupyter environment, please rerun this cell to show the HTML representation or trust the notebook. <br />On GitHub, the HTML representation is unable to render, please try loading this page with nbviewer.org.</b></div><div class=\"sk-container\" hidden><div class=\"sk-item sk-dashed-wrapped\"><div class=\"sk-label-container\"><div class=\"sk-label sk-toggleable\"><input class=\"sk-toggleable__control sk-hidden--visually\" id=\"sk-estimator-id-32\" type=\"checkbox\" ><label for=\"sk-estimator-id-32\" class=\"sk-toggleable__label sk-toggleable__label-arrow\">RandomizedSearchCV</label><div class=\"sk-toggleable__content\"><pre>RandomizedSearchCV(cv=10,\n                   estimator=Pipeline(steps=[(&#x27;pipeline&#x27;,\n                                              Pipeline(steps=[(&#x27;columntransformer&#x27;,\n                                                               ColumnTransformer(transformers=[(&#x27;pipeline-1&#x27;,\n                                                                                                Pipeline(steps=[(&#x27;affectedroadstransformer&#x27;,\n                                                                                                                 AffectedRoadsTransformer())]),\n                                                                                                [&#x27;affected_roads&#x27;]),\n                                                                                               (&#x27;pipeline-2&#x27;,\n                                                                                                Pipeline(steps=[(&#x27;recorddatetransformer&#x27;,\n                                                                                                                 RecordDateTransformer())]),\n                                                                                                [&#x27;record_date&#x27;]),\n                                                                                               (&#x27;pipeline-...\n                                        &#x27;randomforestclassifier__max_depth&#x27;: [10,\n                                                                              32,\n                                                                              55,\n                                                                              77,\n                                                                              100],\n                                        &#x27;randomforestclassifier__max_features&#x27;: [2,\n                                                                                 7,\n                                                                                 12],\n                                        &#x27;randomforestclassifier__max_leaf_nodes&#x27;: [20,\n                                                                                   80],\n                                        &#x27;randomforestclassifier__min_samples_leaf&#x27;: [2,\n                                                                                     30],\n                                        &#x27;randomforestclassifier__min_samples_split&#x27;: [2,\n                                                                                      30],\n                                        &#x27;randomforestclassifier__n_estimators&#x27;: [10,\n                                                                                 50]},\n                   random_state=1000, scoring=&#x27;balanced_accuracy&#x27;, verbose=1)</pre></div></div></div><div class=\"sk-parallel\"><div class=\"sk-parallel-item\"><div class=\"sk-item\"><div class=\"sk-label-container\"><div class=\"sk-label sk-toggleable\"><input class=\"sk-toggleable__control sk-hidden--visually\" id=\"sk-estimator-id-33\" type=\"checkbox\" ><label for=\"sk-estimator-id-33\" class=\"sk-toggleable__label sk-toggleable__label-arrow\">estimator: Pipeline</label><div class=\"sk-toggleable__content\"><pre>Pipeline(steps=[(&#x27;pipeline&#x27;,\n                 Pipeline(steps=[(&#x27;columntransformer&#x27;,\n                                  ColumnTransformer(transformers=[(&#x27;pipeline-1&#x27;,\n                                                                   Pipeline(steps=[(&#x27;affectedroadstransformer&#x27;,\n                                                                                    AffectedRoadsTransformer())]),\n                                                                   [&#x27;affected_roads&#x27;]),\n                                                                  (&#x27;pipeline-2&#x27;,\n                                                                   Pipeline(steps=[(&#x27;recorddatetransformer&#x27;,\n                                                                                    RecordDateTransformer())]),\n                                                                   [&#x27;record_date&#x27;]),\n                                                                  (&#x27;pipeline-3&#x27;,\n                                                                   Pipeline(steps=[(&#x27;simpleimputer&#x27;...\n                                                                   Pipeline(steps=[(&#x27;simpleimputer&#x27;,\n                                                                                    SimpleImputer(fill_value=&#x27;missing&#x27;,\n                                                                                                  strategy=&#x27;constant&#x27;)),\n                                                                                   (&#x27;onehotencoder&#x27;,\n                                                                                    OneHotEncoder(handle_unknown=&#x27;ignore&#x27;))]),\n                                                                   [&#x27;city_name&#x27;,\n                                                                    &#x27;magnitude_of_delay&#x27;,\n                                                                    &#x27;luminosity&#x27;,\n                                                                    &#x27;avg_rain&#x27;])]))])),\n                (&#x27;randomforestclassifier&#x27;,\n                 RandomForestClassifier(max_depth=20, max_leaf_nodes=18,\n                                        min_samples_leaf=5, n_estimators=50,\n                                        n_jobs=-1, random_state=1000))])</pre></div></div></div><div class=\"sk-serial\"><div class=\"sk-item\"><div class=\"sk-serial\"><div class=\"sk-item\"><div class=\"sk-label-container\"><div class=\"sk-label sk-toggleable\"><input class=\"sk-toggleable__control sk-hidden--visually\" id=\"sk-estimator-id-34\" type=\"checkbox\" ><label for=\"sk-estimator-id-34\" class=\"sk-toggleable__label sk-toggleable__label-arrow\">pipeline: Pipeline</label><div class=\"sk-toggleable__content\"><pre>Pipeline(steps=[(&#x27;columntransformer&#x27;,\n                 ColumnTransformer(transformers=[(&#x27;pipeline-1&#x27;,\n                                                  Pipeline(steps=[(&#x27;affectedroadstransformer&#x27;,\n                                                                   AffectedRoadsTransformer())]),\n                                                  [&#x27;affected_roads&#x27;]),\n                                                 (&#x27;pipeline-2&#x27;,\n                                                  Pipeline(steps=[(&#x27;recorddatetransformer&#x27;,\n                                                                   RecordDateTransformer())]),\n                                                  [&#x27;record_date&#x27;]),\n                                                 (&#x27;pipeline-3&#x27;,\n                                                  Pipeline(steps=[(&#x27;simpleimputer&#x27;,\n                                                                   SimpleImputer(strategy=&#x27;med...\n                                                                                    random_state=1000))]),\n                                                  [&#x27;delay_in_seconds&#x27;,\n                                                   &#x27;avg_temperature&#x27;,\n                                                   &#x27;avg_atm_pressure&#x27;,\n                                                   &#x27;avg_humidity&#x27;,\n                                                   &#x27;avg_wind_speed&#x27;,\n                                                   &#x27;avg_precipitation&#x27;]),\n                                                 (&#x27;pipeline-4&#x27;,\n                                                  Pipeline(steps=[(&#x27;simpleimputer&#x27;,\n                                                                   SimpleImputer(fill_value=&#x27;missing&#x27;,\n                                                                                 strategy=&#x27;constant&#x27;)),\n                                                                  (&#x27;onehotencoder&#x27;,\n                                                                   OneHotEncoder(handle_unknown=&#x27;ignore&#x27;))]),\n                                                  [&#x27;city_name&#x27;,\n                                                   &#x27;magnitude_of_delay&#x27;,\n                                                   &#x27;luminosity&#x27;,\n                                                   &#x27;avg_rain&#x27;])]))])</pre></div></div></div><div class=\"sk-serial\"><div class=\"sk-item sk-dashed-wrapped\"><div class=\"sk-label-container\"><div class=\"sk-label sk-toggleable\"><input class=\"sk-toggleable__control sk-hidden--visually\" id=\"sk-estimator-id-35\" type=\"checkbox\" ><label for=\"sk-estimator-id-35\" class=\"sk-toggleable__label sk-toggleable__label-arrow\">columntransformer: ColumnTransformer</label><div class=\"sk-toggleable__content\"><pre>ColumnTransformer(transformers=[(&#x27;pipeline-1&#x27;,\n                                 Pipeline(steps=[(&#x27;affectedroadstransformer&#x27;,\n                                                  AffectedRoadsTransformer())]),\n                                 [&#x27;affected_roads&#x27;]),\n                                (&#x27;pipeline-2&#x27;,\n                                 Pipeline(steps=[(&#x27;recorddatetransformer&#x27;,\n                                                  RecordDateTransformer())]),\n                                 [&#x27;record_date&#x27;]),\n                                (&#x27;pipeline-3&#x27;,\n                                 Pipeline(steps=[(&#x27;simpleimputer&#x27;,\n                                                  SimpleImputer(strategy=&#x27;median&#x27;)),\n                                                 (&#x27;minmaxscaler&#x27;,\n                                                  MinMaxScaler()...\n                                                                   random_state=1000))]),\n                                 [&#x27;delay_in_seconds&#x27;, &#x27;avg_temperature&#x27;,\n                                  &#x27;avg_atm_pressure&#x27;, &#x27;avg_humidity&#x27;,\n                                  &#x27;avg_wind_speed&#x27;, &#x27;avg_precipitation&#x27;]),\n                                (&#x27;pipeline-4&#x27;,\n                                 Pipeline(steps=[(&#x27;simpleimputer&#x27;,\n                                                  SimpleImputer(fill_value=&#x27;missing&#x27;,\n                                                                strategy=&#x27;constant&#x27;)),\n                                                 (&#x27;onehotencoder&#x27;,\n                                                  OneHotEncoder(handle_unknown=&#x27;ignore&#x27;))]),\n                                 [&#x27;city_name&#x27;, &#x27;magnitude_of_delay&#x27;,\n                                  &#x27;luminosity&#x27;, &#x27;avg_rain&#x27;])])</pre></div></div></div><div class=\"sk-parallel\"><div class=\"sk-parallel-item\"><div class=\"sk-item\"><div class=\"sk-label-container\"><div class=\"sk-label sk-toggleable\"><input class=\"sk-toggleable__control sk-hidden--visually\" id=\"sk-estimator-id-36\" type=\"checkbox\" ><label for=\"sk-estimator-id-36\" class=\"sk-toggleable__label sk-toggleable__label-arrow\">pipeline-1</label><div class=\"sk-toggleable__content\"><pre>[&#x27;affected_roads&#x27;]</pre></div></div></div><div class=\"sk-serial\"><div class=\"sk-item\"><div class=\"sk-serial\"><div class=\"sk-item\"><div class=\"sk-estimator sk-toggleable\"><input class=\"sk-toggleable__control sk-hidden--visually\" id=\"sk-estimator-id-37\" type=\"checkbox\" ><label for=\"sk-estimator-id-37\" class=\"sk-toggleable__label sk-toggleable__label-arrow\">AffectedRoadsTransformer</label><div class=\"sk-toggleable__content\"><pre>AffectedRoadsTransformer()</pre></div></div></div></div></div></div></div></div><div class=\"sk-parallel-item\"><div class=\"sk-item\"><div class=\"sk-label-container\"><div class=\"sk-label sk-toggleable\"><input class=\"sk-toggleable__control sk-hidden--visually\" id=\"sk-estimator-id-38\" type=\"checkbox\" ><label for=\"sk-estimator-id-38\" class=\"sk-toggleable__label sk-toggleable__label-arrow\">pipeline-2</label><div class=\"sk-toggleable__content\"><pre>[&#x27;record_date&#x27;]</pre></div></div></div><div class=\"sk-serial\"><div class=\"sk-item\"><div class=\"sk-serial\"><div class=\"sk-item\"><div class=\"sk-estimator sk-toggleable\"><input class=\"sk-toggleable__control sk-hidden--visually\" id=\"sk-estimator-id-39\" type=\"checkbox\" ><label for=\"sk-estimator-id-39\" class=\"sk-toggleable__label sk-toggleable__label-arrow\">RecordDateTransformer</label><div class=\"sk-toggleable__content\"><pre>RecordDateTransformer()</pre></div></div></div></div></div></div></div></div><div class=\"sk-parallel-item\"><div class=\"sk-item\"><div class=\"sk-label-container\"><div class=\"sk-label sk-toggleable\"><input class=\"sk-toggleable__control sk-hidden--visually\" id=\"sk-estimator-id-40\" type=\"checkbox\" ><label for=\"sk-estimator-id-40\" class=\"sk-toggleable__label sk-toggleable__label-arrow\">pipeline-3</label><div class=\"sk-toggleable__content\"><pre>[&#x27;delay_in_seconds&#x27;, &#x27;avg_temperature&#x27;, &#x27;avg_atm_pressure&#x27;, &#x27;avg_humidity&#x27;, &#x27;avg_wind_speed&#x27;, &#x27;avg_precipitation&#x27;]</pre></div></div></div><div class=\"sk-serial\"><div class=\"sk-item\"><div class=\"sk-serial\"><div class=\"sk-item\"><div class=\"sk-estimator sk-toggleable\"><input class=\"sk-toggleable__control sk-hidden--visually\" id=\"sk-estimator-id-41\" type=\"checkbox\" ><label for=\"sk-estimator-id-41\" class=\"sk-toggleable__label sk-toggleable__label-arrow\">SimpleImputer</label><div class=\"sk-toggleable__content\"><pre>SimpleImputer(strategy=&#x27;median&#x27;)</pre></div></div></div><div class=\"sk-item\"><div class=\"sk-estimator sk-toggleable\"><input class=\"sk-toggleable__control sk-hidden--visually\" id=\"sk-estimator-id-42\" type=\"checkbox\" ><label for=\"sk-estimator-id-42\" class=\"sk-toggleable__label sk-toggleable__label-arrow\">MinMaxScaler</label><div class=\"sk-toggleable__content\"><pre>MinMaxScaler()</pre></div></div></div><div class=\"sk-item\"><div class=\"sk-estimator sk-toggleable\"><input class=\"sk-toggleable__control sk-hidden--visually\" id=\"sk-estimator-id-43\" type=\"checkbox\" ><label for=\"sk-estimator-id-43\" class=\"sk-toggleable__label sk-toggleable__label-arrow\">KBinsDiscretizer</label><div class=\"sk-toggleable__content\"><pre>KBinsDiscretizer(encode=&#x27;ordinal&#x27;, n_bins=4, random_state=1000)</pre></div></div></div></div></div></div></div></div><div class=\"sk-parallel-item\"><div class=\"sk-item\"><div class=\"sk-label-container\"><div class=\"sk-label sk-toggleable\"><input class=\"sk-toggleable__control sk-hidden--visually\" id=\"sk-estimator-id-44\" type=\"checkbox\" ><label for=\"sk-estimator-id-44\" class=\"sk-toggleable__label sk-toggleable__label-arrow\">pipeline-4</label><div class=\"sk-toggleable__content\"><pre>[&#x27;city_name&#x27;, &#x27;magnitude_of_delay&#x27;, &#x27;luminosity&#x27;, &#x27;avg_rain&#x27;]</pre></div></div></div><div class=\"sk-serial\"><div class=\"sk-item\"><div class=\"sk-serial\"><div class=\"sk-item\"><div class=\"sk-estimator sk-toggleable\"><input class=\"sk-toggleable__control sk-hidden--visually\" id=\"sk-estimator-id-45\" type=\"checkbox\" ><label for=\"sk-estimator-id-45\" class=\"sk-toggleable__label sk-toggleable__label-arrow\">SimpleImputer</label><div class=\"sk-toggleable__content\"><pre>SimpleImputer(fill_value=&#x27;missing&#x27;, strategy=&#x27;constant&#x27;)</pre></div></div></div><div class=\"sk-item\"><div class=\"sk-estimator sk-toggleable\"><input class=\"sk-toggleable__control sk-hidden--visually\" id=\"sk-estimator-id-46\" type=\"checkbox\" ><label for=\"sk-estimator-id-46\" class=\"sk-toggleable__label sk-toggleable__label-arrow\">OneHotEncoder</label><div class=\"sk-toggleable__content\"><pre>OneHotEncoder(handle_unknown=&#x27;ignore&#x27;)</pre></div></div></div></div></div></div></div></div></div></div></div></div><div class=\"sk-item\"><div class=\"sk-estimator sk-toggleable\"><input class=\"sk-toggleable__control sk-hidden--visually\" id=\"sk-estimator-id-47\" type=\"checkbox\" ><label for=\"sk-estimator-id-47\" class=\"sk-toggleable__label sk-toggleable__label-arrow\">RandomForestClassifier</label><div class=\"sk-toggleable__content\"><pre>RandomForestClassifier(max_depth=20, max_leaf_nodes=18, min_samples_leaf=5,\n                       n_estimators=50, n_jobs=-1, random_state=1000)</pre></div></div></div></div></div></div></div></div></div></div></div></div>"
     },
     "execution_count": 54,
     "metadata": {},
     "output_type": "execute_result"
    }
   ],
   "source": [
    "%%time\n",
    "rf_RandomGrid.fit(X_train, y_train)"
   ],
   "metadata": {
    "collapsed": false
   }
  },
  {
   "cell_type": "code",
   "execution_count": 55,
   "outputs": [
    {
     "data": {
      "text/plain": "0.8222089418116703"
     },
     "execution_count": 55,
     "metadata": {},
     "output_type": "execute_result"
    }
   ],
   "source": [
    "rf_RandomGrid.score(X_train, y_train)"
   ],
   "metadata": {
    "collapsed": false
   }
  },
  {
   "cell_type": "code",
   "execution_count": 56,
   "outputs": [
    {
     "data": {
      "text/plain": "0.805576428411275"
     },
     "execution_count": 56,
     "metadata": {},
     "output_type": "execute_result"
    }
   ],
   "source": [
    "rf_RandomGrid.best_score_"
   ],
   "metadata": {
    "collapsed": false
   }
  },
  {
   "cell_type": "code",
   "execution_count": 57,
   "outputs": [
    {
     "data": {
      "text/plain": "Pipeline(steps=[('pipeline',\n                 Pipeline(steps=[('columntransformer',\n                                  ColumnTransformer(transformers=[('pipeline-1',\n                                                                   Pipeline(steps=[('affectedroadstransformer',\n                                                                                    AffectedRoadsTransformer())]),\n                                                                   ['affected_roads']),\n                                                                  ('pipeline-2',\n                                                                   Pipeline(steps=[('recorddatetransformer',\n                                                                                    RecordDateTransformer())]),\n                                                                   ['record_date']),\n                                                                  ('pipeline-3',\n                                                                   Pipeline(steps=[('simpleimputer'...\n                                                                                    SimpleImputer(fill_value='missing',\n                                                                                                  strategy='constant')),\n                                                                                   ('onehotencoder',\n                                                                                    OneHotEncoder(handle_unknown='ignore'))]),\n                                                                   ['city_name',\n                                                                    'magnitude_of_delay',\n                                                                    'luminosity',\n                                                                    'avg_rain'])]))])),\n                ('randomforestclassifier',\n                 RandomForestClassifier(criterion='entropy', max_depth=77,\n                                        max_features=12, max_leaf_nodes=80,\n                                        min_samples_leaf=2, n_estimators=10,\n                                        n_jobs=-1, random_state=1000))])",
      "text/html": "<style>#sk-container-id-4 {color: black;background-color: white;}#sk-container-id-4 pre{padding: 0;}#sk-container-id-4 div.sk-toggleable {background-color: white;}#sk-container-id-4 label.sk-toggleable__label {cursor: pointer;display: block;width: 100%;margin-bottom: 0;padding: 0.3em;box-sizing: border-box;text-align: center;}#sk-container-id-4 label.sk-toggleable__label-arrow:before {content: \"▸\";float: left;margin-right: 0.25em;color: #696969;}#sk-container-id-4 label.sk-toggleable__label-arrow:hover:before {color: black;}#sk-container-id-4 div.sk-estimator:hover label.sk-toggleable__label-arrow:before {color: black;}#sk-container-id-4 div.sk-toggleable__content {max-height: 0;max-width: 0;overflow: hidden;text-align: left;background-color: #f0f8ff;}#sk-container-id-4 div.sk-toggleable__content pre {margin: 0.2em;color: black;border-radius: 0.25em;background-color: #f0f8ff;}#sk-container-id-4 input.sk-toggleable__control:checked~div.sk-toggleable__content {max-height: 200px;max-width: 100%;overflow: auto;}#sk-container-id-4 input.sk-toggleable__control:checked~label.sk-toggleable__label-arrow:before {content: \"▾\";}#sk-container-id-4 div.sk-estimator input.sk-toggleable__control:checked~label.sk-toggleable__label {background-color: #d4ebff;}#sk-container-id-4 div.sk-label input.sk-toggleable__control:checked~label.sk-toggleable__label {background-color: #d4ebff;}#sk-container-id-4 input.sk-hidden--visually {border: 0;clip: rect(1px 1px 1px 1px);clip: rect(1px, 1px, 1px, 1px);height: 1px;margin: -1px;overflow: hidden;padding: 0;position: absolute;width: 1px;}#sk-container-id-4 div.sk-estimator {font-family: monospace;background-color: #f0f8ff;border: 1px dotted black;border-radius: 0.25em;box-sizing: border-box;margin-bottom: 0.5em;}#sk-container-id-4 div.sk-estimator:hover {background-color: #d4ebff;}#sk-container-id-4 div.sk-parallel-item::after {content: \"\";width: 100%;border-bottom: 1px solid gray;flex-grow: 1;}#sk-container-id-4 div.sk-label:hover label.sk-toggleable__label {background-color: #d4ebff;}#sk-container-id-4 div.sk-serial::before {content: \"\";position: absolute;border-left: 1px solid gray;box-sizing: border-box;top: 0;bottom: 0;left: 50%;z-index: 0;}#sk-container-id-4 div.sk-serial {display: flex;flex-direction: column;align-items: center;background-color: white;padding-right: 0.2em;padding-left: 0.2em;position: relative;}#sk-container-id-4 div.sk-item {position: relative;z-index: 1;}#sk-container-id-4 div.sk-parallel {display: flex;align-items: stretch;justify-content: center;background-color: white;position: relative;}#sk-container-id-4 div.sk-item::before, #sk-container-id-4 div.sk-parallel-item::before {content: \"\";position: absolute;border-left: 1px solid gray;box-sizing: border-box;top: 0;bottom: 0;left: 50%;z-index: -1;}#sk-container-id-4 div.sk-parallel-item {display: flex;flex-direction: column;z-index: 1;position: relative;background-color: white;}#sk-container-id-4 div.sk-parallel-item:first-child::after {align-self: flex-end;width: 50%;}#sk-container-id-4 div.sk-parallel-item:last-child::after {align-self: flex-start;width: 50%;}#sk-container-id-4 div.sk-parallel-item:only-child::after {width: 0;}#sk-container-id-4 div.sk-dashed-wrapped {border: 1px dashed gray;margin: 0 0.4em 0.5em 0.4em;box-sizing: border-box;padding-bottom: 0.4em;background-color: white;}#sk-container-id-4 div.sk-label label {font-family: monospace;font-weight: bold;display: inline-block;line-height: 1.2em;}#sk-container-id-4 div.sk-label-container {text-align: center;}#sk-container-id-4 div.sk-container {/* jupyter's `normalize.less` sets `[hidden] { display: none; }` but bootstrap.min.css set `[hidden] { display: none !important; }` so we also need the `!important` here to be able to override the default hidden behavior on the sphinx rendered scikit-learn.org. See: https://github.com/scikit-learn/scikit-learn/issues/21755 */display: inline-block !important;position: relative;}#sk-container-id-4 div.sk-text-repr-fallback {display: none;}</style><div id=\"sk-container-id-4\" class=\"sk-top-container\"><div class=\"sk-text-repr-fallback\"><pre>Pipeline(steps=[(&#x27;pipeline&#x27;,\n                 Pipeline(steps=[(&#x27;columntransformer&#x27;,\n                                  ColumnTransformer(transformers=[(&#x27;pipeline-1&#x27;,\n                                                                   Pipeline(steps=[(&#x27;affectedroadstransformer&#x27;,\n                                                                                    AffectedRoadsTransformer())]),\n                                                                   [&#x27;affected_roads&#x27;]),\n                                                                  (&#x27;pipeline-2&#x27;,\n                                                                   Pipeline(steps=[(&#x27;recorddatetransformer&#x27;,\n                                                                                    RecordDateTransformer())]),\n                                                                   [&#x27;record_date&#x27;]),\n                                                                  (&#x27;pipeline-3&#x27;,\n                                                                   Pipeline(steps=[(&#x27;simpleimputer&#x27;...\n                                                                                    SimpleImputer(fill_value=&#x27;missing&#x27;,\n                                                                                                  strategy=&#x27;constant&#x27;)),\n                                                                                   (&#x27;onehotencoder&#x27;,\n                                                                                    OneHotEncoder(handle_unknown=&#x27;ignore&#x27;))]),\n                                                                   [&#x27;city_name&#x27;,\n                                                                    &#x27;magnitude_of_delay&#x27;,\n                                                                    &#x27;luminosity&#x27;,\n                                                                    &#x27;avg_rain&#x27;])]))])),\n                (&#x27;randomforestclassifier&#x27;,\n                 RandomForestClassifier(criterion=&#x27;entropy&#x27;, max_depth=77,\n                                        max_features=12, max_leaf_nodes=80,\n                                        min_samples_leaf=2, n_estimators=10,\n                                        n_jobs=-1, random_state=1000))])</pre><b>In a Jupyter environment, please rerun this cell to show the HTML representation or trust the notebook. <br />On GitHub, the HTML representation is unable to render, please try loading this page with nbviewer.org.</b></div><div class=\"sk-container\" hidden><div class=\"sk-item sk-dashed-wrapped\"><div class=\"sk-label-container\"><div class=\"sk-label sk-toggleable\"><input class=\"sk-toggleable__control sk-hidden--visually\" id=\"sk-estimator-id-48\" type=\"checkbox\" ><label for=\"sk-estimator-id-48\" class=\"sk-toggleable__label sk-toggleable__label-arrow\">Pipeline</label><div class=\"sk-toggleable__content\"><pre>Pipeline(steps=[(&#x27;pipeline&#x27;,\n                 Pipeline(steps=[(&#x27;columntransformer&#x27;,\n                                  ColumnTransformer(transformers=[(&#x27;pipeline-1&#x27;,\n                                                                   Pipeline(steps=[(&#x27;affectedroadstransformer&#x27;,\n                                                                                    AffectedRoadsTransformer())]),\n                                                                   [&#x27;affected_roads&#x27;]),\n                                                                  (&#x27;pipeline-2&#x27;,\n                                                                   Pipeline(steps=[(&#x27;recorddatetransformer&#x27;,\n                                                                                    RecordDateTransformer())]),\n                                                                   [&#x27;record_date&#x27;]),\n                                                                  (&#x27;pipeline-3&#x27;,\n                                                                   Pipeline(steps=[(&#x27;simpleimputer&#x27;...\n                                                                                    SimpleImputer(fill_value=&#x27;missing&#x27;,\n                                                                                                  strategy=&#x27;constant&#x27;)),\n                                                                                   (&#x27;onehotencoder&#x27;,\n                                                                                    OneHotEncoder(handle_unknown=&#x27;ignore&#x27;))]),\n                                                                   [&#x27;city_name&#x27;,\n                                                                    &#x27;magnitude_of_delay&#x27;,\n                                                                    &#x27;luminosity&#x27;,\n                                                                    &#x27;avg_rain&#x27;])]))])),\n                (&#x27;randomforestclassifier&#x27;,\n                 RandomForestClassifier(criterion=&#x27;entropy&#x27;, max_depth=77,\n                                        max_features=12, max_leaf_nodes=80,\n                                        min_samples_leaf=2, n_estimators=10,\n                                        n_jobs=-1, random_state=1000))])</pre></div></div></div><div class=\"sk-serial\"><div class=\"sk-item\"><div class=\"sk-label-container\"><div class=\"sk-label sk-toggleable\"><input class=\"sk-toggleable__control sk-hidden--visually\" id=\"sk-estimator-id-49\" type=\"checkbox\" ><label for=\"sk-estimator-id-49\" class=\"sk-toggleable__label sk-toggleable__label-arrow\">pipeline: Pipeline</label><div class=\"sk-toggleable__content\"><pre>Pipeline(steps=[(&#x27;columntransformer&#x27;,\n                 ColumnTransformer(transformers=[(&#x27;pipeline-1&#x27;,\n                                                  Pipeline(steps=[(&#x27;affectedroadstransformer&#x27;,\n                                                                   AffectedRoadsTransformer())]),\n                                                  [&#x27;affected_roads&#x27;]),\n                                                 (&#x27;pipeline-2&#x27;,\n                                                  Pipeline(steps=[(&#x27;recorddatetransformer&#x27;,\n                                                                   RecordDateTransformer())]),\n                                                  [&#x27;record_date&#x27;]),\n                                                 (&#x27;pipeline-3&#x27;,\n                                                  Pipeline(steps=[(&#x27;simpleimputer&#x27;,\n                                                                   SimpleImputer(strategy=&#x27;med...\n                                                                                    random_state=1000))]),\n                                                  [&#x27;delay_in_seconds&#x27;,\n                                                   &#x27;avg_temperature&#x27;,\n                                                   &#x27;avg_atm_pressure&#x27;,\n                                                   &#x27;avg_humidity&#x27;,\n                                                   &#x27;avg_wind_speed&#x27;,\n                                                   &#x27;avg_precipitation&#x27;]),\n                                                 (&#x27;pipeline-4&#x27;,\n                                                  Pipeline(steps=[(&#x27;simpleimputer&#x27;,\n                                                                   SimpleImputer(fill_value=&#x27;missing&#x27;,\n                                                                                 strategy=&#x27;constant&#x27;)),\n                                                                  (&#x27;onehotencoder&#x27;,\n                                                                   OneHotEncoder(handle_unknown=&#x27;ignore&#x27;))]),\n                                                  [&#x27;city_name&#x27;,\n                                                   &#x27;magnitude_of_delay&#x27;,\n                                                   &#x27;luminosity&#x27;,\n                                                   &#x27;avg_rain&#x27;])]))])</pre></div></div></div><div class=\"sk-serial\"><div class=\"sk-item sk-dashed-wrapped\"><div class=\"sk-label-container\"><div class=\"sk-label sk-toggleable\"><input class=\"sk-toggleable__control sk-hidden--visually\" id=\"sk-estimator-id-50\" type=\"checkbox\" ><label for=\"sk-estimator-id-50\" class=\"sk-toggleable__label sk-toggleable__label-arrow\">columntransformer: ColumnTransformer</label><div class=\"sk-toggleable__content\"><pre>ColumnTransformer(transformers=[(&#x27;pipeline-1&#x27;,\n                                 Pipeline(steps=[(&#x27;affectedroadstransformer&#x27;,\n                                                  AffectedRoadsTransformer())]),\n                                 [&#x27;affected_roads&#x27;]),\n                                (&#x27;pipeline-2&#x27;,\n                                 Pipeline(steps=[(&#x27;recorddatetransformer&#x27;,\n                                                  RecordDateTransformer())]),\n                                 [&#x27;record_date&#x27;]),\n                                (&#x27;pipeline-3&#x27;,\n                                 Pipeline(steps=[(&#x27;simpleimputer&#x27;,\n                                                  SimpleImputer(strategy=&#x27;median&#x27;)),\n                                                 (&#x27;minmaxscaler&#x27;,\n                                                  MinMaxScaler()...\n                                                                   random_state=1000))]),\n                                 [&#x27;delay_in_seconds&#x27;, &#x27;avg_temperature&#x27;,\n                                  &#x27;avg_atm_pressure&#x27;, &#x27;avg_humidity&#x27;,\n                                  &#x27;avg_wind_speed&#x27;, &#x27;avg_precipitation&#x27;]),\n                                (&#x27;pipeline-4&#x27;,\n                                 Pipeline(steps=[(&#x27;simpleimputer&#x27;,\n                                                  SimpleImputer(fill_value=&#x27;missing&#x27;,\n                                                                strategy=&#x27;constant&#x27;)),\n                                                 (&#x27;onehotencoder&#x27;,\n                                                  OneHotEncoder(handle_unknown=&#x27;ignore&#x27;))]),\n                                 [&#x27;city_name&#x27;, &#x27;magnitude_of_delay&#x27;,\n                                  &#x27;luminosity&#x27;, &#x27;avg_rain&#x27;])])</pre></div></div></div><div class=\"sk-parallel\"><div class=\"sk-parallel-item\"><div class=\"sk-item\"><div class=\"sk-label-container\"><div class=\"sk-label sk-toggleable\"><input class=\"sk-toggleable__control sk-hidden--visually\" id=\"sk-estimator-id-51\" type=\"checkbox\" ><label for=\"sk-estimator-id-51\" class=\"sk-toggleable__label sk-toggleable__label-arrow\">pipeline-1</label><div class=\"sk-toggleable__content\"><pre>[&#x27;affected_roads&#x27;]</pre></div></div></div><div class=\"sk-serial\"><div class=\"sk-item\"><div class=\"sk-serial\"><div class=\"sk-item\"><div class=\"sk-estimator sk-toggleable\"><input class=\"sk-toggleable__control sk-hidden--visually\" id=\"sk-estimator-id-52\" type=\"checkbox\" ><label for=\"sk-estimator-id-52\" class=\"sk-toggleable__label sk-toggleable__label-arrow\">AffectedRoadsTransformer</label><div class=\"sk-toggleable__content\"><pre>AffectedRoadsTransformer()</pre></div></div></div></div></div></div></div></div><div class=\"sk-parallel-item\"><div class=\"sk-item\"><div class=\"sk-label-container\"><div class=\"sk-label sk-toggleable\"><input class=\"sk-toggleable__control sk-hidden--visually\" id=\"sk-estimator-id-53\" type=\"checkbox\" ><label for=\"sk-estimator-id-53\" class=\"sk-toggleable__label sk-toggleable__label-arrow\">pipeline-2</label><div class=\"sk-toggleable__content\"><pre>[&#x27;record_date&#x27;]</pre></div></div></div><div class=\"sk-serial\"><div class=\"sk-item\"><div class=\"sk-serial\"><div class=\"sk-item\"><div class=\"sk-estimator sk-toggleable\"><input class=\"sk-toggleable__control sk-hidden--visually\" id=\"sk-estimator-id-54\" type=\"checkbox\" ><label for=\"sk-estimator-id-54\" class=\"sk-toggleable__label sk-toggleable__label-arrow\">RecordDateTransformer</label><div class=\"sk-toggleable__content\"><pre>RecordDateTransformer()</pre></div></div></div></div></div></div></div></div><div class=\"sk-parallel-item\"><div class=\"sk-item\"><div class=\"sk-label-container\"><div class=\"sk-label sk-toggleable\"><input class=\"sk-toggleable__control sk-hidden--visually\" id=\"sk-estimator-id-55\" type=\"checkbox\" ><label for=\"sk-estimator-id-55\" class=\"sk-toggleable__label sk-toggleable__label-arrow\">pipeline-3</label><div class=\"sk-toggleable__content\"><pre>[&#x27;delay_in_seconds&#x27;, &#x27;avg_temperature&#x27;, &#x27;avg_atm_pressure&#x27;, &#x27;avg_humidity&#x27;, &#x27;avg_wind_speed&#x27;, &#x27;avg_precipitation&#x27;]</pre></div></div></div><div class=\"sk-serial\"><div class=\"sk-item\"><div class=\"sk-serial\"><div class=\"sk-item\"><div class=\"sk-estimator sk-toggleable\"><input class=\"sk-toggleable__control sk-hidden--visually\" id=\"sk-estimator-id-56\" type=\"checkbox\" ><label for=\"sk-estimator-id-56\" class=\"sk-toggleable__label sk-toggleable__label-arrow\">SimpleImputer</label><div class=\"sk-toggleable__content\"><pre>SimpleImputer(strategy=&#x27;median&#x27;)</pre></div></div></div><div class=\"sk-item\"><div class=\"sk-estimator sk-toggleable\"><input class=\"sk-toggleable__control sk-hidden--visually\" id=\"sk-estimator-id-57\" type=\"checkbox\" ><label for=\"sk-estimator-id-57\" class=\"sk-toggleable__label sk-toggleable__label-arrow\">MinMaxScaler</label><div class=\"sk-toggleable__content\"><pre>MinMaxScaler()</pre></div></div></div><div class=\"sk-item\"><div class=\"sk-estimator sk-toggleable\"><input class=\"sk-toggleable__control sk-hidden--visually\" id=\"sk-estimator-id-58\" type=\"checkbox\" ><label for=\"sk-estimator-id-58\" class=\"sk-toggleable__label sk-toggleable__label-arrow\">KBinsDiscretizer</label><div class=\"sk-toggleable__content\"><pre>KBinsDiscretizer(encode=&#x27;ordinal&#x27;, n_bins=4, random_state=1000)</pre></div></div></div></div></div></div></div></div><div class=\"sk-parallel-item\"><div class=\"sk-item\"><div class=\"sk-label-container\"><div class=\"sk-label sk-toggleable\"><input class=\"sk-toggleable__control sk-hidden--visually\" id=\"sk-estimator-id-59\" type=\"checkbox\" ><label for=\"sk-estimator-id-59\" class=\"sk-toggleable__label sk-toggleable__label-arrow\">pipeline-4</label><div class=\"sk-toggleable__content\"><pre>[&#x27;city_name&#x27;, &#x27;magnitude_of_delay&#x27;, &#x27;luminosity&#x27;, &#x27;avg_rain&#x27;]</pre></div></div></div><div class=\"sk-serial\"><div class=\"sk-item\"><div class=\"sk-serial\"><div class=\"sk-item\"><div class=\"sk-estimator sk-toggleable\"><input class=\"sk-toggleable__control sk-hidden--visually\" id=\"sk-estimator-id-60\" type=\"checkbox\" ><label for=\"sk-estimator-id-60\" class=\"sk-toggleable__label sk-toggleable__label-arrow\">SimpleImputer</label><div class=\"sk-toggleable__content\"><pre>SimpleImputer(fill_value=&#x27;missing&#x27;, strategy=&#x27;constant&#x27;)</pre></div></div></div><div class=\"sk-item\"><div class=\"sk-estimator sk-toggleable\"><input class=\"sk-toggleable__control sk-hidden--visually\" id=\"sk-estimator-id-61\" type=\"checkbox\" ><label for=\"sk-estimator-id-61\" class=\"sk-toggleable__label sk-toggleable__label-arrow\">OneHotEncoder</label><div class=\"sk-toggleable__content\"><pre>OneHotEncoder(handle_unknown=&#x27;ignore&#x27;)</pre></div></div></div></div></div></div></div></div></div></div></div></div><div class=\"sk-item\"><div class=\"sk-estimator sk-toggleable\"><input class=\"sk-toggleable__control sk-hidden--visually\" id=\"sk-estimator-id-62\" type=\"checkbox\" ><label for=\"sk-estimator-id-62\" class=\"sk-toggleable__label sk-toggleable__label-arrow\">RandomForestClassifier</label><div class=\"sk-toggleable__content\"><pre>RandomForestClassifier(criterion=&#x27;entropy&#x27;, max_depth=77, max_features=12,\n                       max_leaf_nodes=80, min_samples_leaf=2, n_estimators=10,\n                       n_jobs=-1, random_state=1000)</pre></div></div></div></div></div></div></div>"
     },
     "execution_count": 57,
     "metadata": {},
     "output_type": "execute_result"
    }
   ],
   "source": [
    "rf_RandomGrid.best_estimator_"
   ],
   "metadata": {
    "collapsed": false
   }
  },
  {
   "cell_type": "code",
   "execution_count": 58,
   "outputs": [
    {
     "name": "stdout",
     "output_type": "stream",
     "text": [
      "Train: 0.822\n",
      "Test: 0.809\n"
     ]
    }
   ],
   "source": [
    "print(f'Train: {rf_RandomGrid.score(X_train, y_train):.3f}')\n",
    "print(f'Test: {rf_RandomGrid.score(X_test, y_test):.3f}')"
   ],
   "metadata": {
    "collapsed": false
   }
  },
  {
   "cell_type": "code",
   "execution_count": 59,
   "outputs": [
    {
     "data": {
      "text/plain": "<sklearn.metrics._plot.confusion_matrix.ConfusionMatrixDisplay at 0x179727e89d0>"
     },
     "execution_count": 59,
     "metadata": {},
     "output_type": "execute_result"
    },
    {
     "data": {
      "text/plain": "<Figure size 640x480 with 2 Axes>",
      "image/png": "[encoded data removed]"
     },
     "metadata": {},
     "output_type": "display_data"
    }
   ],
   "source": [
    "from sklearn.metrics import confusion_matrix, ConfusionMatrixDisplay\n",
    "\n",
    "predictions = rf_RandomGrid.predict(X_test)\n",
    "\n",
    "cm = confusion_matrix(y_test, predictions)\n",
    "# TP FP\n",
    "# FN TN\n",
    "disp = ConfusionMatrixDisplay(cm)\n",
    "\n",
    "disp.plot(cmap='inferno')"
   ],
   "metadata": {
    "collapsed": false
   }
  },
  {
   "cell_type": "markdown",
   "source": [
    "### Obtenção das previsões do dataset de submissão"
   ],
   "metadata": {
    "collapsed": false
   }
  },
  {
   "cell_type": "code",
   "execution_count": 60,
   "outputs": [
    {
     "name": "stderr",
     "output_type": "stream",
     "text": [
      "C:\\Users\\gonca\\.conda\\envs\\DAA\\lib\\site-packages\\sklearn\\preprocessing\\_discretization.py:291: UserWarning: Bins whose width are too small (i.e., <= 1e-8) in feature 0 are removed. Consider decreasing the number of bins.\n",
      "  warnings.warn(\n",
      "C:\\Users\\gonca\\.conda\\envs\\DAA\\lib\\site-packages\\sklearn\\preprocessing\\_discretization.py:291: UserWarning: Bins whose width are too small (i.e., <= 1e-8) in feature 4 are removed. Consider decreasing the number of bins.\n",
      "  warnings.warn(\n",
      "C:\\Users\\gonca\\.conda\\envs\\DAA\\lib\\site-packages\\sklearn\\preprocessing\\_discretization.py:257: UserWarning: Feature 5 is constant and will be replaced with 0.\n",
      "  warnings.warn(\n"
     ]
    }
   ],
   "source": [
    "features = test_df.copy()\n",
    "\n",
    "preprocessor.fit(features)\n",
    "preprocessor.transform(features)\n",
    "\n",
    "predictions = rf_RandomGrid.predict(features)\n",
    "predictions_df = pd.DataFrame(predictions)\n",
    "predictions_df.index += 1\n",
    "predictions_df.to_csv(\"../submission.csv\", header=['Incidents'], index_label='RowId')"
   ],
   "metadata": {
    "collapsed": false
   }
  },
  {
   "cell_type": "code",
   "execution_count": 60,
   "outputs": [],
   "source": [],
   "metadata": {
    "collapsed": false
   }
  }
 ],
 "metadata": {
  "kernelspec": {
   "display_name": "Python 3",
   "language": "python",
   "name": "python3"
  },
  "language_info": {
   "codemirror_mode": {
    "name": "ipython",
    "version": 2
   },
   "file_extension": ".py",
   "mimetype": "text/x-python",
   "name": "python",
   "nbconvert_exporter": "python",
   "pygments_lexer": "ipython2",
   "version": "2.7.6"
  }
 },
 "nbformat": 4,
 "nbformat_minor": 0
}
