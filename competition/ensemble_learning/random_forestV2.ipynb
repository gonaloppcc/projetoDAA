{
 "cells": [
  {
   "cell_type": "markdown",
   "source": [
    "# Implementação do Random Forest"
   ],
   "metadata": {
    "collapsed": false
   }
  },
  {
   "cell_type": "code",
   "execution_count": 320,
   "outputs": [],
   "source": [
    "import pandas as pd\n",
    "import numpy as np\n",
    "import matplotlib.pyplot as plt\n",
    "import seaborn as sns\n",
    "from sklearn.compose import make_column_transformer\n",
    "from sklearn.impute import SimpleImputer\n",
    "from sklearn.model_selection import RandomizedSearchCV\n",
    "from sklearn.model_selection import train_test_split\n",
    "from sklearn.pipeline import make_pipeline\n",
    "from sklearn.preprocessing import MinMaxScaler, OneHotEncoder\n",
    "from pandas import DataFrame\n",
    "from sklearn.base import BaseEstimator\n",
    "from sklearn.base import TransformerMixin\n",
    "from sklearn.metrics import confusion_matrix, ConfusionMatrixDisplay\n",
    "from sklearn.model_selection import GridSearchCV\n",
    "\n",
    "TRAINING_DATASET_SOURCE = '../training_data.csv'  # Since we are one directory up, we should go down one directory to import the datasets\n",
    "TEST_DATASET_SOURCE = '../test_data.csv'\n",
    "\n",
    "train_df = pd.read_csv(TRAINING_DATASET_SOURCE)\n",
    "test_df = pd.read_csv(TEST_DATASET_SOURCE)"
   ],
   "metadata": {
    "collapsed": false
   }
  },
  {
   "cell_type": "markdown",
   "source": [
    "# Definição dos dados de teste e de treino"
   ],
   "metadata": {
    "collapsed": false
   }
  },
  {
   "cell_type": "code",
   "execution_count": 321,
   "outputs": [
    {
     "name": "stdout",
     "output_type": "stream",
     "text": [
      "(5000, 13) (1206, 12)\n",
      "None         2028\n",
      "High         1073\n",
      "Low           718\n",
      "Very_High     603\n",
      "Medium        578\n",
      "Name: incidents, dtype: int64\n",
      "Max value count: 2028\n",
      "None         2028\n",
      "High         2028\n",
      "Low          2028\n",
      "Very_High    2028\n",
      "Medium       2028\n",
      "Name: incidents, dtype: int64\n"
     ]
    }
   ],
   "source": [
    "print(train_df.shape, test_df.shape)\n",
    "print(train_df['incidents'].value_counts())\n",
    "\n",
    "incidents_count = train_df['incidents'].value_counts()\n",
    "\n",
    "max_count = incidents_count.max()\n",
    "print('Max value count:', max_count)\n",
    "\n",
    "df_classes = []\n",
    "for category, counts in zip(incidents_count.index, incidents_count):\n",
    "    #print(category, counts)\n",
    "    df_classes.append(train_df[train_df['incidents'] == category])\n",
    "\n",
    "df_classes_over = []\n",
    "\n",
    "for category in df_classes:\n",
    "    df_classes_over.append(category.sample(max_count, replace=True))\n",
    "\n",
    "df_test_over = pd.concat(df_classes_over, axis=0)\n",
    "\n",
    "print(df_test_over['incidents'].value_counts())\n"
   ],
   "metadata": {
    "collapsed": false
   }
  },
  {
   "cell_type": "code",
   "execution_count": 322,
   "outputs": [
    {
     "data": {
      "text/plain": "      city_name magnitude_of_delay  delay_in_seconds  \\\n1822  Guimaraes          UNDEFINED                 0   \n1906  Guimaraes          UNDEFINED                 0   \n950   Guimaraes          UNDEFINED                 0   \n3530  Guimaraes          UNDEFINED                 0   \n4739  Guimaraes          UNDEFINED                 0   \n\n                affected_roads       record_date luminosity  avg_temperature  \\\n1822                         ,  2021-03-15 04:00       DARK             10.0   \n1906  N101,N101,N101,N101,N101  2021-10-04 20:00       DARK             15.0   \n950   N101,N101,N101,N101,N101  2021-10-30 05:00       DARK             15.0   \n3530                         ,  2021-03-07 04:00       DARK              8.0   \n4739                 N101,N101  2021-12-05 23:00       DARK              9.0   \n\n      avg_atm_pressure  avg_humidity  avg_wind_speed  avg_precipitation  \\\n1822            1025.0          76.0             2.0                0.0   \n1906            1022.0          83.0             1.0                0.0   \n950             1003.0          93.0             0.0                0.0   \n3530            1017.0          81.0             0.0                0.0   \n4739            1028.0          89.0             0.0                0.0   \n\n       avg_rain  \n1822  Sem Chuva  \n1906  Sem Chuva  \n950   Sem Chuva  \n3530  Sem Chuva  \n4739  Sem Chuva  ",
      "text/html": "<div>\n<style scoped>\n    .dataframe tbody tr th:only-of-type {\n        vertical-align: middle;\n    }\n\n    .dataframe tbody tr th {\n        vertical-align: top;\n    }\n\n    .dataframe thead th {\n        text-align: right;\n    }\n</style>\n<table border=\"1\" class=\"dataframe\">\n  <thead>\n    <tr style=\"text-align: right;\">\n      <th></th>\n      <th>city_name</th>\n      <th>magnitude_of_delay</th>\n      <th>delay_in_seconds</th>\n      <th>affected_roads</th>\n      <th>record_date</th>\n      <th>luminosity</th>\n      <th>avg_temperature</th>\n      <th>avg_atm_pressure</th>\n      <th>avg_humidity</th>\n      <th>avg_wind_speed</th>\n      <th>avg_precipitation</th>\n      <th>avg_rain</th>\n    </tr>\n  </thead>\n  <tbody>\n    <tr>\n      <th>1822</th>\n      <td>Guimaraes</td>\n      <td>UNDEFINED</td>\n      <td>0</td>\n      <td>,</td>\n      <td>2021-03-15 04:00</td>\n      <td>DARK</td>\n      <td>10.0</td>\n      <td>1025.0</td>\n      <td>76.0</td>\n      <td>2.0</td>\n      <td>0.0</td>\n      <td>Sem Chuva</td>\n    </tr>\n    <tr>\n      <th>1906</th>\n      <td>Guimaraes</td>\n      <td>UNDEFINED</td>\n      <td>0</td>\n      <td>N101,N101,N101,N101,N101</td>\n      <td>2021-10-04 20:00</td>\n      <td>DARK</td>\n      <td>15.0</td>\n      <td>1022.0</td>\n      <td>83.0</td>\n      <td>1.0</td>\n      <td>0.0</td>\n      <td>Sem Chuva</td>\n    </tr>\n    <tr>\n      <th>950</th>\n      <td>Guimaraes</td>\n      <td>UNDEFINED</td>\n      <td>0</td>\n      <td>N101,N101,N101,N101,N101</td>\n      <td>2021-10-30 05:00</td>\n      <td>DARK</td>\n      <td>15.0</td>\n      <td>1003.0</td>\n      <td>93.0</td>\n      <td>0.0</td>\n      <td>0.0</td>\n      <td>Sem Chuva</td>\n    </tr>\n    <tr>\n      <th>3530</th>\n      <td>Guimaraes</td>\n      <td>UNDEFINED</td>\n      <td>0</td>\n      <td>,</td>\n      <td>2021-03-07 04:00</td>\n      <td>DARK</td>\n      <td>8.0</td>\n      <td>1017.0</td>\n      <td>81.0</td>\n      <td>0.0</td>\n      <td>0.0</td>\n      <td>Sem Chuva</td>\n    </tr>\n    <tr>\n      <th>4739</th>\n      <td>Guimaraes</td>\n      <td>UNDEFINED</td>\n      <td>0</td>\n      <td>N101,N101</td>\n      <td>2021-12-05 23:00</td>\n      <td>DARK</td>\n      <td>9.0</td>\n      <td>1028.0</td>\n      <td>89.0</td>\n      <td>0.0</td>\n      <td>0.0</td>\n      <td>Sem Chuva</td>\n    </tr>\n  </tbody>\n</table>\n</div>"
     },
     "execution_count": 322,
     "metadata": {},
     "output_type": "execute_result"
    }
   ],
   "source": [
    "features = df_test_over.drop(['incidents'], axis=1)\n",
    "target = df_test_over['incidents']\n",
    "\n",
    "all_features = features.columns.tolist()\n",
    "\n",
    "features[:5]"
   ],
   "metadata": {
    "collapsed": false
   }
  },
  {
   "cell_type": "markdown",
   "source": [
    "### Obtenção das features numericas e categoricas"
   ],
   "metadata": {
    "collapsed": false
   }
  },
  {
   "cell_type": "code",
   "execution_count": 336,
   "outputs": [],
   "source": [
    "from sklearn.preprocessing import StandardScaler\n",
    "\n",
    "categorical_to_numerical = {\n",
    "    'luminosity': {\n",
    "        'LOW_LIGHT': 0,\n",
    "        'LIGHT': 1,\n",
    "        'DARK': 2\n",
    "    },\n",
    "    'avg_rain': {\n",
    "        'Sem Chuva': 0,\n",
    "        'chuva fraca': 1,\n",
    "        'chuva moderada': 2,\n",
    "        'chuva forte': 3,\n",
    "    }\n",
    "}\n",
    "\n",
    "\n",
    "def decision_tree_data_preparation(df: DataFrame) -> DataFrame:\n",
    "    dropped_columns = ['city_name', 'avg_precipitation', 'magnitude_of_delay']\n",
    "\n",
    "    numerical_features = [column for column, dtype in zip(features.columns, features.dtypes) if\n",
    "                          dtype.kind in ['i', 'f'] and column not in dropped_columns]\n",
    "\n",
    "    numerical_features = ['avg_temperature', 'avg_atm_pressure', 'avg_humidity', 'avg_wind_speed', 'luminosity']\n",
    "    #assert numerical_features == ['avg_temperature', 'avg_atm_pressure', 'avg_humidity', 'avg_wind_speed', 'luminosity']\n",
    "\n",
    "\n",
    "    categorical_features = [column for column, dtype in zip(features.columns, features.dtypes) if\n",
    "                            dtype.kind not in ['i', 'f'] and column not in dropped_columns]\n",
    "\n",
    "    prep_df = df.drop(dropped_columns, axis=1)\n",
    "    prep_df.drop_duplicates()\n",
    "\n",
    "    ### Converter as features categoricas em numericas\n",
    "    prep_df.replace(categorical_to_numerical, inplace=True)\n",
    "\n",
    "    ### Extrair a hora e dia da semana da feature 'record_date'\n",
    "    record_date = pd.DatetimeIndex(prep_df['record_date'])\n",
    "\n",
    "    prep_df['hour'] = record_date.hour\n",
    "    prep_df['day'] = record_date.day\n",
    "    prep_df['month'] = record_date.month\n",
    "    prep_df['weekday'] = record_date.weekday\n",
    "\n",
    "    prep_df.drop(columns=['record_date'], inplace=True)\n",
    "\n",
    "    #train_df['affected_roads'] = train_df['affected_roads'].fillna(train_df['affected_roads'].mode().iloc[0])\n",
    "\n",
    "    num_affected_roads = []\n",
    "    for line in df['affected_roads']:\n",
    "        unique_roads = set(str(line).split(','))\n",
    "        valid_roads = [elem for elem in unique_roads if elem != '']\n",
    "        count = len(valid_roads)\n",
    "        num_affected_roads.append(count)\n",
    "\n",
    "    prep_df['num_affected_roads'] = num_affected_roads\n",
    "\n",
    "    ### Ao analisar o resultado pós-tratamento, verificámos que a feature 'affected_roads' tinha alta correlação com 'delay_in_minutes'\n",
    "    prep_df.drop(columns=['affected_roads'], inplace=True)\n",
    "\n",
    "    ### Converter a feature 'delay_in_seconds' para 'delay_in_minutes' de modo a reduzir o intervalo de valores\n",
    "    delay_in_minutes = prep_df['delay_in_seconds'].map(lambda seconds : seconds / 60)\n",
    "\n",
    "    prep_df.drop(columns=['delay_in_seconds'], inplace=True)\n",
    "    prep_df['delay_in_minutes'] = delay_in_minutes\n",
    "\n",
    "    ### Limites superior e inferior (sem outliers) dos diagramas de caixa\n",
    "    #numerical_features.remove('delay_in_seconds')\n",
    "    #numerical_features.append('delay_in_minutes')\n",
    "\n",
    "    scaler = MinMaxScaler()\n",
    "    scaler.fit(prep_df)\n",
    "    prep_df = scaler.transform(prep_df)\n",
    "\n",
    "\n",
    "    return prep_df"
   ],
   "metadata": {
    "collapsed": false
   }
  },
  {
   "cell_type": "markdown",
   "source": [
    "### Divisão dos dados em dados de teste e treino"
   ],
   "metadata": {
    "collapsed": false
   }
  },
  {
   "cell_type": "code",
   "execution_count": 337,
   "outputs": [],
   "source": [
    "X_train, X_test, y_train, y_test = train_test_split(decision_tree_data_preparation(features), target, test_size=0.3,\n",
    "                                                    random_state=2000)"
   ],
   "metadata": {
    "collapsed": false
   }
  },
  {
   "cell_type": "markdown",
   "source": [
    "### Preparação de dados"
   ],
   "metadata": {
    "collapsed": false
   }
  },
  {
   "cell_type": "code",
   "execution_count": 340,
   "outputs": [],
   "source": [
    "from sklearn.ensemble import RandomForestClassifier\n",
    "\n",
    "RF_Model = make_pipeline(\n",
    "    RandomForestClassifier(random_state=200))"
   ],
   "metadata": {
    "collapsed": false
   }
  },
  {
   "cell_type": "code",
   "execution_count": 341,
   "outputs": [
    {
     "data": {
      "text/plain": "1.0"
     },
     "execution_count": 341,
     "metadata": {},
     "output_type": "execute_result"
    }
   ],
   "source": [
    "RF_Model.fit(X_train, y_train)\n",
    "RF_Model.score(X_train, y_train)"
   ],
   "metadata": {
    "collapsed": false
   }
  },
  {
   "cell_type": "code",
   "execution_count": 342,
   "outputs": [
    {
     "data": {
      "text/plain": "0.9796186719263642"
     },
     "execution_count": 342,
     "metadata": {},
     "output_type": "execute_result"
    }
   ],
   "source": [
    "RF_Model.score(X_test, y_test)"
   ],
   "metadata": {
    "collapsed": false
   }
  },
  {
   "cell_type": "markdown",
   "source": [
    "## Hyperparameter Tuning"
   ],
   "metadata": {
    "collapsed": false
   }
  },
  {
   "cell_type": "code",
   "execution_count": 343,
   "outputs": [],
   "source": [
    "import numpy as np\n",
    "\n",
    "n_estimators = [100, 200] #[int(x) for x in np.linspace(start=10, stop=500, num=5)]\n",
    "\n",
    "max_features = [int(x) for x in np.linspace(start=6, stop=12, num=3)]\n",
    "\n",
    "max_depth = [int(x) for x in np.linspace(start=10, stop=500, num=5)]\n",
    "\n",
    "min_samples_split = [int(x) for x in np.linspace(start=2, stop=30, num=2)]  #[2, 5, 10, 20]\n",
    "\n",
    "min_samples_leaf = [int(x) for x in np.linspace(start=2, stop=30, num=2)]  # [1, 2, 5, 10]\n",
    "\n",
    "max_leaf_nodes = [int(x) for x in np.linspace(start=20, stop=200, num=5)]\n",
    "\n",
    "bootstrap = [True, False]\n",
    "\n",
    "criterions = [\"gini\", \"entropy\", \"log_loss\"]"
   ],
   "metadata": {
    "collapsed": false
   }
  },
  {
   "cell_type": "code",
   "execution_count": 344,
   "outputs": [
    {
     "data": {
      "text/plain": "{'randomforestclassifier__n_estimators': [100, 200],\n 'randomforestclassifier__max_features': [6, 9, 12],\n 'randomforestclassifier__max_depth': [10, 132, 255, 377, 500],\n 'randomforestclassifier__min_samples_split': [2, 30],\n 'randomforestclassifier__min_samples_leaf': [2, 30],\n 'randomforestclassifier__max_leaf_nodes': [20, 65, 110, 155, 200],\n 'randomforestclassifier__bootstrap': [True, False],\n 'randomforestclassifier__criterion': ['gini', 'entropy', 'log_loss']}"
     },
     "execution_count": 344,
     "metadata": {},
     "output_type": "execute_result"
    }
   ],
   "source": [
    "param_grid = {\n",
    "    'randomforestclassifier__n_estimators': n_estimators,\n",
    "    'randomforestclassifier__max_features': max_features,\n",
    "    'randomforestclassifier__max_depth': max_depth,\n",
    "    'randomforestclassifier__min_samples_split': min_samples_split,\n",
    "    'randomforestclassifier__min_samples_leaf': min_samples_leaf,\n",
    "    'randomforestclassifier__max_leaf_nodes': max_leaf_nodes,\n",
    "    'randomforestclassifier__bootstrap': bootstrap,\n",
    "    'randomforestclassifier__criterion': criterions\n",
    "}\n",
    "\n",
    "param_grid"
   ],
   "metadata": {
    "collapsed": false
   }
  },
  {
   "cell_type": "code",
   "execution_count": 349,
   "outputs": [],
   "source": [
    "from sklearn.metrics import accuracy_score\n",
    "rf_RandomGrid = RandomizedSearchCV(estimator=RF_Model, param_distributions=param_grid, cv=20, verbose=1, n_jobs=-2,\n",
    "                                   n_iter=20, random_state=1000, scoring=accuracy_score)\n",
    "#rf_RandomGrid = GridSearchCV(estimator=RF_Model, param_grid=param_grid, cv=10, verbose=1, n_jobs=-1, scoring='balanced_accuracy')"
   ],
   "metadata": {
    "collapsed": false
   }
  },
  {
   "cell_type": "code",
   "execution_count": 350,
   "outputs": [
    {
     "name": "stdout",
     "output_type": "stream",
     "text": [
      "Fitting 20 folds for each of 20 candidates, totalling 400 fits\n"
     ]
    },
    {
     "name": "stderr",
     "output_type": "stream",
     "text": [
      "C:\\Users\\gonca\\.conda\\envs\\DAA\\lib\\site-packages\\sklearn\\model_selection\\_search.py:953: UserWarning: One or more of the test scores are non-finite: [nan nan nan nan nan nan nan nan nan nan nan nan nan nan nan nan nan nan\n",
      " nan nan]\n",
      "  warnings.warn(\n"
     ]
    },
    {
     "name": "stdout",
     "output_type": "stream",
     "text": [
      "CPU times: total: 2.38 s\n",
      "Wall time: 1min 1s\n"
     ]
    },
    {
     "data": {
      "text/plain": "RandomizedSearchCV(cv=20,\n                   estimator=Pipeline(steps=[('randomforestclassifier',\n                                              RandomForestClassifier(random_state=200))]),\n                   n_iter=20, n_jobs=-2,\n                   param_distributions={'randomforestclassifier__bootstrap': [True,\n                                                                              False],\n                                        'randomforestclassifier__criterion': ['gini',\n                                                                              'entropy',\n                                                                              'log_loss'],\n                                        'randomforestclassifier__max_depth': [10,\n                                                                              132,\n                                                                              255,\n                                                                              377,\n                                                                              500],\n                                        'randomforestclassifier__max_features': [6,\n                                                                                 9,\n                                                                                 12],\n                                        'randomforestclassifier__max_leaf_nodes': [20,\n                                                                                   65,\n                                                                                   110,\n                                                                                   155,\n                                                                                   200],\n                                        'randomforestclassifier__min_samples_leaf': [2,\n                                                                                     30],\n                                        'randomforestclassifier__min_samples_split': [2,\n                                                                                      30],\n                                        'randomforestclassifier__n_estimators': [100,\n                                                                                 200]},\n                   random_state=1000,\n                   scoring=<function accuracy_score at 0x000001C89B8DBCA0>,\n                   verbose=1)",
      "text/html": "<style>#sk-container-id-38 {color: black;background-color: white;}#sk-container-id-38 pre{padding: 0;}#sk-container-id-38 div.sk-toggleable {background-color: white;}#sk-container-id-38 label.sk-toggleable__label {cursor: pointer;display: block;width: 100%;margin-bottom: 0;padding: 0.3em;box-sizing: border-box;text-align: center;}#sk-container-id-38 label.sk-toggleable__label-arrow:before {content: \"▸\";float: left;margin-right: 0.25em;color: #696969;}#sk-container-id-38 label.sk-toggleable__label-arrow:hover:before {color: black;}#sk-container-id-38 div.sk-estimator:hover label.sk-toggleable__label-arrow:before {color: black;}#sk-container-id-38 div.sk-toggleable__content {max-height: 0;max-width: 0;overflow: hidden;text-align: left;background-color: #f0f8ff;}#sk-container-id-38 div.sk-toggleable__content pre {margin: 0.2em;color: black;border-radius: 0.25em;background-color: #f0f8ff;}#sk-container-id-38 input.sk-toggleable__control:checked~div.sk-toggleable__content {max-height: 200px;max-width: 100%;overflow: auto;}#sk-container-id-38 input.sk-toggleable__control:checked~label.sk-toggleable__label-arrow:before {content: \"▾\";}#sk-container-id-38 div.sk-estimator input.sk-toggleable__control:checked~label.sk-toggleable__label {background-color: #d4ebff;}#sk-container-id-38 div.sk-label input.sk-toggleable__control:checked~label.sk-toggleable__label {background-color: #d4ebff;}#sk-container-id-38 input.sk-hidden--visually {border: 0;clip: rect(1px 1px 1px 1px);clip: rect(1px, 1px, 1px, 1px);height: 1px;margin: -1px;overflow: hidden;padding: 0;position: absolute;width: 1px;}#sk-container-id-38 div.sk-estimator {font-family: monospace;background-color: #f0f8ff;border: 1px dotted black;border-radius: 0.25em;box-sizing: border-box;margin-bottom: 0.5em;}#sk-container-id-38 div.sk-estimator:hover {background-color: #d4ebff;}#sk-container-id-38 div.sk-parallel-item::after {content: \"\";width: 100%;border-bottom: 1px solid gray;flex-grow: 1;}#sk-container-id-38 div.sk-label:hover label.sk-toggleable__label {background-color: #d4ebff;}#sk-container-id-38 div.sk-serial::before {content: \"\";position: absolute;border-left: 1px solid gray;box-sizing: border-box;top: 0;bottom: 0;left: 50%;z-index: 0;}#sk-container-id-38 div.sk-serial {display: flex;flex-direction: column;align-items: center;background-color: white;padding-right: 0.2em;padding-left: 0.2em;position: relative;}#sk-container-id-38 div.sk-item {position: relative;z-index: 1;}#sk-container-id-38 div.sk-parallel {display: flex;align-items: stretch;justify-content: center;background-color: white;position: relative;}#sk-container-id-38 div.sk-item::before, #sk-container-id-38 div.sk-parallel-item::before {content: \"\";position: absolute;border-left: 1px solid gray;box-sizing: border-box;top: 0;bottom: 0;left: 50%;z-index: -1;}#sk-container-id-38 div.sk-parallel-item {display: flex;flex-direction: column;z-index: 1;position: relative;background-color: white;}#sk-container-id-38 div.sk-parallel-item:first-child::after {align-self: flex-end;width: 50%;}#sk-container-id-38 div.sk-parallel-item:last-child::after {align-self: flex-start;width: 50%;}#sk-container-id-38 div.sk-parallel-item:only-child::after {width: 0;}#sk-container-id-38 div.sk-dashed-wrapped {border: 1px dashed gray;margin: 0 0.4em 0.5em 0.4em;box-sizing: border-box;padding-bottom: 0.4em;background-color: white;}#sk-container-id-38 div.sk-label label {font-family: monospace;font-weight: bold;display: inline-block;line-height: 1.2em;}#sk-container-id-38 div.sk-label-container {text-align: center;}#sk-container-id-38 div.sk-container {/* jupyter's `normalize.less` sets `[hidden] { display: none; }` but bootstrap.min.css set `[hidden] { display: none !important; }` so we also need the `!important` here to be able to override the default hidden behavior on the sphinx rendered scikit-learn.org. See: https://github.com/scikit-learn/scikit-learn/issues/21755 */display: inline-block !important;position: relative;}#sk-container-id-38 div.sk-text-repr-fallback {display: none;}</style><div id=\"sk-container-id-38\" class=\"sk-top-container\"><div class=\"sk-text-repr-fallback\"><pre>RandomizedSearchCV(cv=20,\n                   estimator=Pipeline(steps=[(&#x27;randomforestclassifier&#x27;,\n                                              RandomForestClassifier(random_state=200))]),\n                   n_iter=20, n_jobs=-2,\n                   param_distributions={&#x27;randomforestclassifier__bootstrap&#x27;: [True,\n                                                                              False],\n                                        &#x27;randomforestclassifier__criterion&#x27;: [&#x27;gini&#x27;,\n                                                                              &#x27;entropy&#x27;,\n                                                                              &#x27;log_loss&#x27;],\n                                        &#x27;randomforestclassifier__max_depth&#x27;: [10,\n                                                                              132,\n                                                                              255,\n                                                                              377,\n                                                                              500],\n                                        &#x27;randomforestclassifier__max_features&#x27;: [6,\n                                                                                 9,\n                                                                                 12],\n                                        &#x27;randomforestclassifier__max_leaf_nodes&#x27;: [20,\n                                                                                   65,\n                                                                                   110,\n                                                                                   155,\n                                                                                   200],\n                                        &#x27;randomforestclassifier__min_samples_leaf&#x27;: [2,\n                                                                                     30],\n                                        &#x27;randomforestclassifier__min_samples_split&#x27;: [2,\n                                                                                      30],\n                                        &#x27;randomforestclassifier__n_estimators&#x27;: [100,\n                                                                                 200]},\n                   random_state=1000,\n                   scoring=&lt;function accuracy_score at 0x000001C89B8DBCA0&gt;,\n                   verbose=1)</pre><b>In a Jupyter environment, please rerun this cell to show the HTML representation or trust the notebook. <br />On GitHub, the HTML representation is unable to render, please try loading this page with nbviewer.org.</b></div><div class=\"sk-container\" hidden><div class=\"sk-item sk-dashed-wrapped\"><div class=\"sk-label-container\"><div class=\"sk-label sk-toggleable\"><input class=\"sk-toggleable__control sk-hidden--visually\" id=\"sk-estimator-id-92\" type=\"checkbox\" ><label for=\"sk-estimator-id-92\" class=\"sk-toggleable__label sk-toggleable__label-arrow\">RandomizedSearchCV</label><div class=\"sk-toggleable__content\"><pre>RandomizedSearchCV(cv=20,\n                   estimator=Pipeline(steps=[(&#x27;randomforestclassifier&#x27;,\n                                              RandomForestClassifier(random_state=200))]),\n                   n_iter=20, n_jobs=-2,\n                   param_distributions={&#x27;randomforestclassifier__bootstrap&#x27;: [True,\n                                                                              False],\n                                        &#x27;randomforestclassifier__criterion&#x27;: [&#x27;gini&#x27;,\n                                                                              &#x27;entropy&#x27;,\n                                                                              &#x27;log_loss&#x27;],\n                                        &#x27;randomforestclassifier__max_depth&#x27;: [10,\n                                                                              132,\n                                                                              255,\n                                                                              377,\n                                                                              500],\n                                        &#x27;randomforestclassifier__max_features&#x27;: [6,\n                                                                                 9,\n                                                                                 12],\n                                        &#x27;randomforestclassifier__max_leaf_nodes&#x27;: [20,\n                                                                                   65,\n                                                                                   110,\n                                                                                   155,\n                                                                                   200],\n                                        &#x27;randomforestclassifier__min_samples_leaf&#x27;: [2,\n                                                                                     30],\n                                        &#x27;randomforestclassifier__min_samples_split&#x27;: [2,\n                                                                                      30],\n                                        &#x27;randomforestclassifier__n_estimators&#x27;: [100,\n                                                                                 200]},\n                   random_state=1000,\n                   scoring=&lt;function accuracy_score at 0x000001C89B8DBCA0&gt;,\n                   verbose=1)</pre></div></div></div><div class=\"sk-parallel\"><div class=\"sk-parallel-item\"><div class=\"sk-item\"><div class=\"sk-label-container\"><div class=\"sk-label sk-toggleable\"><input class=\"sk-toggleable__control sk-hidden--visually\" id=\"sk-estimator-id-93\" type=\"checkbox\" ><label for=\"sk-estimator-id-93\" class=\"sk-toggleable__label sk-toggleable__label-arrow\">estimator: Pipeline</label><div class=\"sk-toggleable__content\"><pre>Pipeline(steps=[(&#x27;randomforestclassifier&#x27;,\n                 RandomForestClassifier(random_state=200))])</pre></div></div></div><div class=\"sk-serial\"><div class=\"sk-item\"><div class=\"sk-serial\"><div class=\"sk-item\"><div class=\"sk-estimator sk-toggleable\"><input class=\"sk-toggleable__control sk-hidden--visually\" id=\"sk-estimator-id-94\" type=\"checkbox\" ><label for=\"sk-estimator-id-94\" class=\"sk-toggleable__label sk-toggleable__label-arrow\">RandomForestClassifier</label><div class=\"sk-toggleable__content\"><pre>RandomForestClassifier(random_state=200)</pre></div></div></div></div></div></div></div></div></div></div></div></div>"
     },
     "execution_count": 350,
     "metadata": {},
     "output_type": "execute_result"
    }
   ],
   "source": [
    "%%time\n",
    "rf_RandomGrid.fit(X_train, y_train)"
   ],
   "metadata": {
    "collapsed": false
   }
  },
  {
   "cell_type": "code",
   "execution_count": 351,
   "outputs": [
    {
     "name": "stdout",
     "output_type": "stream",
     "text": [
      "Cross Validation results: {'mean_fit_time': array([1.62969838, 2.08684944, 2.50670187, 2.61969931, 1.57754989,\n",
      "       0.95219892, 2.00119972, 2.02909927, 1.02384864, 3.19139886,\n",
      "       1.57659928, 2.69434977, 0.8344992 , 1.70414944, 1.37920028,\n",
      "       2.1048496 , 1.42034916, 1.15994915, 3.83769948, 1.10884955]), 'std_fit_time': array([0.12606187, 0.10885542, 0.08285436, 0.10862432, 0.06290114,\n",
      "       0.07093292, 0.06240011, 0.09153577, 0.05625207, 0.12654817,\n",
      "       0.10928222, 0.12648706, 0.10197045, 0.06859505, 0.03635886,\n",
      "       0.19353672, 0.10515927, 0.05848607, 0.16581453, 0.09825468]), 'mean_score_time': array([0.0004501 , 0.00020013, 0.00029755, 0.00030006, 0.00019995,\n",
      "       0.00029981, 0.00024984, 0.00034993, 0.0004004 , 0.00035019,\n",
      "       0.00030006, 0.0001999 , 0.00019995, 0.00035065, 0.00049982,\n",
      "       0.00029987, 0.00040021, 0.00029997, 0.0002502 , 0.00030011]), 'std_score_time': array([0.0004976 , 0.00040026, 0.00045461, 0.00045835, 0.00050986,\n",
      "       0.00045797, 0.00043273, 0.00047687, 0.00049039, 0.00047723,\n",
      "       0.00045835, 0.0003998 , 0.0003999 , 0.00047786, 0.00049982,\n",
      "       0.00045806, 0.00049016, 0.00045821, 0.00043335, 0.00045842]), 'param_randomforestclassifier__n_estimators': masked_array(data=[200, 200, 200, 200, 100, 100, 200, 200, 100, 200, 100,\n",
      "                   200, 100, 100, 200, 200, 100, 100, 200, 100],\n",
      "             mask=[False, False, False, False, False, False, False, False,\n",
      "                   False, False, False, False, False, False, False, False,\n",
      "                   False, False, False, False],\n",
      "       fill_value='?',\n",
      "            dtype=object), 'param_randomforestclassifier__min_samples_split': masked_array(data=[30, 30, 30, 30, 30, 2, 2, 2, 2, 2, 2, 30, 2, 2, 2, 30,\n",
      "                   30, 30, 2, 2],\n",
      "             mask=[False, False, False, False, False, False, False, False,\n",
      "                   False, False, False, False, False, False, False, False,\n",
      "                   False, False, False, False],\n",
      "       fill_value='?',\n",
      "            dtype=object), 'param_randomforestclassifier__min_samples_leaf': masked_array(data=[2, 30, 30, 2, 30, 30, 2, 30, 2, 2, 30, 2, 30, 30, 30,\n",
      "                   30, 2, 2, 2, 30],\n",
      "             mask=[False, False, False, False, False, False, False, False,\n",
      "                   False, False, False, False, False, False, False, False,\n",
      "                   False, False, False, False],\n",
      "       fill_value='?',\n",
      "            dtype=object), 'param_randomforestclassifier__max_leaf_nodes': masked_array(data=[110, 200, 200, 20, 200, 65, 65, 200, 200, 110, 200,\n",
      "                   110, 20, 155, 65, 110, 155, 155, 155, 155],\n",
      "             mask=[False, False, False, False, False, False, False, False,\n",
      "                   False, False, False, False, False, False, False, False,\n",
      "                   False, False, False, False],\n",
      "       fill_value='?',\n",
      "            dtype=object), 'param_randomforestclassifier__max_features': masked_array(data=[6, 12, 9, 12, 12, 9, 9, 6, 9, 12, 12, 12, 6, 12, 6, 6,\n",
      "                   9, 6, 12, 12],\n",
      "             mask=[False, False, False, False, False, False, False, False,\n",
      "                   False, False, False, False, False, False, False, False,\n",
      "                   False, False, False, False],\n",
      "       fill_value='?',\n",
      "            dtype=object), 'param_randomforestclassifier__max_depth': masked_array(data=[255, 500, 255, 255, 500, 132, 132, 500, 500, 10, 500,\n",
      "                   132, 377, 255, 500, 132, 500, 377, 500, 132],\n",
      "             mask=[False, False, False, False, False, False, False, False,\n",
      "                   False, False, False, False, False, False, False, False,\n",
      "                   False, False, False, False],\n",
      "       fill_value='?',\n",
      "            dtype=object), 'param_randomforestclassifier__criterion': masked_array(data=['log_loss', 'gini', 'gini', 'log_loss', 'gini',\n",
      "                   'log_loss', 'entropy', 'log_loss', 'gini', 'gini',\n",
      "                   'gini', 'gini', 'log_loss', 'entropy', 'gini',\n",
      "                   'entropy', 'gini', 'log_loss', 'entropy', 'gini'],\n",
      "             mask=[False, False, False, False, False, False, False, False,\n",
      "                   False, False, False, False, False, False, False, False,\n",
      "                   False, False, False, False],\n",
      "       fill_value='?',\n",
      "            dtype=object), 'param_randomforestclassifier__bootstrap': masked_array(data=[True, True, False, False, False, True, True, False,\n",
      "                   True, False, False, True, False, False, True, False,\n",
      "                   False, False, False, True],\n",
      "             mask=[False, False, False, False, False, False, False, False,\n",
      "                   False, False, False, False, False, False, False, False,\n",
      "                   False, False, False, False],\n",
      "       fill_value='?',\n",
      "            dtype=object), 'params': [{'randomforestclassifier__n_estimators': 200, 'randomforestclassifier__min_samples_split': 30, 'randomforestclassifier__min_samples_leaf': 2, 'randomforestclassifier__max_leaf_nodes': 110, 'randomforestclassifier__max_features': 6, 'randomforestclassifier__max_depth': 255, 'randomforestclassifier__criterion': 'log_loss', 'randomforestclassifier__bootstrap': True}, {'randomforestclassifier__n_estimators': 200, 'randomforestclassifier__min_samples_split': 30, 'randomforestclassifier__min_samples_leaf': 30, 'randomforestclassifier__max_leaf_nodes': 200, 'randomforestclassifier__max_features': 12, 'randomforestclassifier__max_depth': 500, 'randomforestclassifier__criterion': 'gini', 'randomforestclassifier__bootstrap': True}, {'randomforestclassifier__n_estimators': 200, 'randomforestclassifier__min_samples_split': 30, 'randomforestclassifier__min_samples_leaf': 30, 'randomforestclassifier__max_leaf_nodes': 200, 'randomforestclassifier__max_features': 9, 'randomforestclassifier__max_depth': 255, 'randomforestclassifier__criterion': 'gini', 'randomforestclassifier__bootstrap': False}, {'randomforestclassifier__n_estimators': 200, 'randomforestclassifier__min_samples_split': 30, 'randomforestclassifier__min_samples_leaf': 2, 'randomforestclassifier__max_leaf_nodes': 20, 'randomforestclassifier__max_features': 12, 'randomforestclassifier__max_depth': 255, 'randomforestclassifier__criterion': 'log_loss', 'randomforestclassifier__bootstrap': False}, {'randomforestclassifier__n_estimators': 100, 'randomforestclassifier__min_samples_split': 30, 'randomforestclassifier__min_samples_leaf': 30, 'randomforestclassifier__max_leaf_nodes': 200, 'randomforestclassifier__max_features': 12, 'randomforestclassifier__max_depth': 500, 'randomforestclassifier__criterion': 'gini', 'randomforestclassifier__bootstrap': False}, {'randomforestclassifier__n_estimators': 100, 'randomforestclassifier__min_samples_split': 2, 'randomforestclassifier__min_samples_leaf': 30, 'randomforestclassifier__max_leaf_nodes': 65, 'randomforestclassifier__max_features': 9, 'randomforestclassifier__max_depth': 132, 'randomforestclassifier__criterion': 'log_loss', 'randomforestclassifier__bootstrap': True}, {'randomforestclassifier__n_estimators': 200, 'randomforestclassifier__min_samples_split': 2, 'randomforestclassifier__min_samples_leaf': 2, 'randomforestclassifier__max_leaf_nodes': 65, 'randomforestclassifier__max_features': 9, 'randomforestclassifier__max_depth': 132, 'randomforestclassifier__criterion': 'entropy', 'randomforestclassifier__bootstrap': True}, {'randomforestclassifier__n_estimators': 200, 'randomforestclassifier__min_samples_split': 2, 'randomforestclassifier__min_samples_leaf': 30, 'randomforestclassifier__max_leaf_nodes': 200, 'randomforestclassifier__max_features': 6, 'randomforestclassifier__max_depth': 500, 'randomforestclassifier__criterion': 'log_loss', 'randomforestclassifier__bootstrap': False}, {'randomforestclassifier__n_estimators': 100, 'randomforestclassifier__min_samples_split': 2, 'randomforestclassifier__min_samples_leaf': 2, 'randomforestclassifier__max_leaf_nodes': 200, 'randomforestclassifier__max_features': 9, 'randomforestclassifier__max_depth': 500, 'randomforestclassifier__criterion': 'gini', 'randomforestclassifier__bootstrap': True}, {'randomforestclassifier__n_estimators': 200, 'randomforestclassifier__min_samples_split': 2, 'randomforestclassifier__min_samples_leaf': 2, 'randomforestclassifier__max_leaf_nodes': 110, 'randomforestclassifier__max_features': 12, 'randomforestclassifier__max_depth': 10, 'randomforestclassifier__criterion': 'gini', 'randomforestclassifier__bootstrap': False}, {'randomforestclassifier__n_estimators': 100, 'randomforestclassifier__min_samples_split': 2, 'randomforestclassifier__min_samples_leaf': 30, 'randomforestclassifier__max_leaf_nodes': 200, 'randomforestclassifier__max_features': 12, 'randomforestclassifier__max_depth': 500, 'randomforestclassifier__criterion': 'gini', 'randomforestclassifier__bootstrap': False}, {'randomforestclassifier__n_estimators': 200, 'randomforestclassifier__min_samples_split': 30, 'randomforestclassifier__min_samples_leaf': 2, 'randomforestclassifier__max_leaf_nodes': 110, 'randomforestclassifier__max_features': 12, 'randomforestclassifier__max_depth': 132, 'randomforestclassifier__criterion': 'gini', 'randomforestclassifier__bootstrap': True}, {'randomforestclassifier__n_estimators': 100, 'randomforestclassifier__min_samples_split': 2, 'randomforestclassifier__min_samples_leaf': 30, 'randomforestclassifier__max_leaf_nodes': 20, 'randomforestclassifier__max_features': 6, 'randomforestclassifier__max_depth': 377, 'randomforestclassifier__criterion': 'log_loss', 'randomforestclassifier__bootstrap': False}, {'randomforestclassifier__n_estimators': 100, 'randomforestclassifier__min_samples_split': 2, 'randomforestclassifier__min_samples_leaf': 30, 'randomforestclassifier__max_leaf_nodes': 155, 'randomforestclassifier__max_features': 12, 'randomforestclassifier__max_depth': 255, 'randomforestclassifier__criterion': 'entropy', 'randomforestclassifier__bootstrap': False}, {'randomforestclassifier__n_estimators': 200, 'randomforestclassifier__min_samples_split': 2, 'randomforestclassifier__min_samples_leaf': 30, 'randomforestclassifier__max_leaf_nodes': 65, 'randomforestclassifier__max_features': 6, 'randomforestclassifier__max_depth': 500, 'randomforestclassifier__criterion': 'gini', 'randomforestclassifier__bootstrap': True}, {'randomforestclassifier__n_estimators': 200, 'randomforestclassifier__min_samples_split': 30, 'randomforestclassifier__min_samples_leaf': 30, 'randomforestclassifier__max_leaf_nodes': 110, 'randomforestclassifier__max_features': 6, 'randomforestclassifier__max_depth': 132, 'randomforestclassifier__criterion': 'entropy', 'randomforestclassifier__bootstrap': False}, {'randomforestclassifier__n_estimators': 100, 'randomforestclassifier__min_samples_split': 30, 'randomforestclassifier__min_samples_leaf': 2, 'randomforestclassifier__max_leaf_nodes': 155, 'randomforestclassifier__max_features': 9, 'randomforestclassifier__max_depth': 500, 'randomforestclassifier__criterion': 'gini', 'randomforestclassifier__bootstrap': False}, {'randomforestclassifier__n_estimators': 100, 'randomforestclassifier__min_samples_split': 30, 'randomforestclassifier__min_samples_leaf': 2, 'randomforestclassifier__max_leaf_nodes': 155, 'randomforestclassifier__max_features': 6, 'randomforestclassifier__max_depth': 377, 'randomforestclassifier__criterion': 'log_loss', 'randomforestclassifier__bootstrap': False}, {'randomforestclassifier__n_estimators': 200, 'randomforestclassifier__min_samples_split': 2, 'randomforestclassifier__min_samples_leaf': 2, 'randomforestclassifier__max_leaf_nodes': 155, 'randomforestclassifier__max_features': 12, 'randomforestclassifier__max_depth': 500, 'randomforestclassifier__criterion': 'entropy', 'randomforestclassifier__bootstrap': False}, {'randomforestclassifier__n_estimators': 100, 'randomforestclassifier__min_samples_split': 2, 'randomforestclassifier__min_samples_leaf': 30, 'randomforestclassifier__max_leaf_nodes': 155, 'randomforestclassifier__max_features': 12, 'randomforestclassifier__max_depth': 132, 'randomforestclassifier__criterion': 'gini', 'randomforestclassifier__bootstrap': True}], 'split0_test_score': array([nan, nan, nan, nan, nan, nan, nan, nan, nan, nan, nan, nan, nan,\n",
      "       nan, nan, nan, nan, nan, nan, nan]), 'split1_test_score': array([nan, nan, nan, nan, nan, nan, nan, nan, nan, nan, nan, nan, nan,\n",
      "       nan, nan, nan, nan, nan, nan, nan]), 'split2_test_score': array([nan, nan, nan, nan, nan, nan, nan, nan, nan, nan, nan, nan, nan,\n",
      "       nan, nan, nan, nan, nan, nan, nan]), 'split3_test_score': array([nan, nan, nan, nan, nan, nan, nan, nan, nan, nan, nan, nan, nan,\n",
      "       nan, nan, nan, nan, nan, nan, nan]), 'split4_test_score': array([nan, nan, nan, nan, nan, nan, nan, nan, nan, nan, nan, nan, nan,\n",
      "       nan, nan, nan, nan, nan, nan, nan]), 'split5_test_score': array([nan, nan, nan, nan, nan, nan, nan, nan, nan, nan, nan, nan, nan,\n",
      "       nan, nan, nan, nan, nan, nan, nan]), 'split6_test_score': array([nan, nan, nan, nan, nan, nan, nan, nan, nan, nan, nan, nan, nan,\n",
      "       nan, nan, nan, nan, nan, nan, nan]), 'split7_test_score': array([nan, nan, nan, nan, nan, nan, nan, nan, nan, nan, nan, nan, nan,\n",
      "       nan, nan, nan, nan, nan, nan, nan]), 'split8_test_score': array([nan, nan, nan, nan, nan, nan, nan, nan, nan, nan, nan, nan, nan,\n",
      "       nan, nan, nan, nan, nan, nan, nan]), 'split9_test_score': array([nan, nan, nan, nan, nan, nan, nan, nan, nan, nan, nan, nan, nan,\n",
      "       nan, nan, nan, nan, nan, nan, nan]), 'split10_test_score': array([nan, nan, nan, nan, nan, nan, nan, nan, nan, nan, nan, nan, nan,\n",
      "       nan, nan, nan, nan, nan, nan, nan]), 'split11_test_score': array([nan, nan, nan, nan, nan, nan, nan, nan, nan, nan, nan, nan, nan,\n",
      "       nan, nan, nan, nan, nan, nan, nan]), 'split12_test_score': array([nan, nan, nan, nan, nan, nan, nan, nan, nan, nan, nan, nan, nan,\n",
      "       nan, nan, nan, nan, nan, nan, nan]), 'split13_test_score': array([nan, nan, nan, nan, nan, nan, nan, nan, nan, nan, nan, nan, nan,\n",
      "       nan, nan, nan, nan, nan, nan, nan]), 'split14_test_score': array([nan, nan, nan, nan, nan, nan, nan, nan, nan, nan, nan, nan, nan,\n",
      "       nan, nan, nan, nan, nan, nan, nan]), 'split15_test_score': array([nan, nan, nan, nan, nan, nan, nan, nan, nan, nan, nan, nan, nan,\n",
      "       nan, nan, nan, nan, nan, nan, nan]), 'split16_test_score': array([nan, nan, nan, nan, nan, nan, nan, nan, nan, nan, nan, nan, nan,\n",
      "       nan, nan, nan, nan, nan, nan, nan]), 'split17_test_score': array([nan, nan, nan, nan, nan, nan, nan, nan, nan, nan, nan, nan, nan,\n",
      "       nan, nan, nan, nan, nan, nan, nan]), 'split18_test_score': array([nan, nan, nan, nan, nan, nan, nan, nan, nan, nan, nan, nan, nan,\n",
      "       nan, nan, nan, nan, nan, nan, nan]), 'split19_test_score': array([nan, nan, nan, nan, nan, nan, nan, nan, nan, nan, nan, nan, nan,\n",
      "       nan, nan, nan, nan, nan, nan, nan]), 'mean_test_score': array([nan, nan, nan, nan, nan, nan, nan, nan, nan, nan, nan, nan, nan,\n",
      "       nan, nan, nan, nan, nan, nan, nan]), 'std_test_score': array([nan, nan, nan, nan, nan, nan, nan, nan, nan, nan, nan, nan, nan,\n",
      "       nan, nan, nan, nan, nan, nan, nan]), 'rank_test_score': array([ 1, 18, 17, 16, 15, 14, 13, 12, 11, 10,  9,  8,  7,  6,  5,  4,  3,\n",
      "        2, 19, 20])}\n",
      "RandomGrid best score: nan\n"
     ]
    },
    {
     "ename": "TypeError",
     "evalue": "accuracy_score() takes 2 positional arguments but 3 were given",
     "output_type": "error",
     "traceback": [
      "\u001B[1;31m---------------------------------------------------------------------------\u001B[0m",
      "\u001B[1;31mTypeError\u001B[0m                                 Traceback (most recent call last)",
      "Cell \u001B[1;32mIn [351], line 5\u001B[0m\n\u001B[0;32m      1\u001B[0m \u001B[38;5;28mprint\u001B[39m(\u001B[38;5;124m\"\u001B[39m\u001B[38;5;124mCross Validation results:\u001B[39m\u001B[38;5;124m\"\u001B[39m, rf_RandomGrid\u001B[38;5;241m.\u001B[39mcv_results_)\n\u001B[0;32m      3\u001B[0m \u001B[38;5;28mprint\u001B[39m(\u001B[38;5;124m\"\u001B[39m\u001B[38;5;124mRandomGrid best score:\u001B[39m\u001B[38;5;124m\"\u001B[39m, rf_RandomGrid\u001B[38;5;241m.\u001B[39mbest_score_)\n\u001B[1;32m----> 5\u001B[0m \u001B[38;5;28mprint\u001B[39m(\u001B[38;5;124mf\u001B[39m\u001B[38;5;124m'\u001B[39m\u001B[38;5;124mTrain: \u001B[39m\u001B[38;5;132;01m{\u001B[39;00mrf_RandomGrid\u001B[38;5;241m.\u001B[39mscore(X_train, y_train)\u001B[38;5;132;01m:\u001B[39;00m\u001B[38;5;124m.3f\u001B[39m\u001B[38;5;132;01m}\u001B[39;00m\u001B[38;5;124m'\u001B[39m)\n\u001B[0;32m      6\u001B[0m \u001B[38;5;28mprint\u001B[39m(\u001B[38;5;124mf\u001B[39m\u001B[38;5;124m'\u001B[39m\u001B[38;5;124mTest: \u001B[39m\u001B[38;5;132;01m{\u001B[39;00mrf_RandomGrid\u001B[38;5;241m.\u001B[39mscore(X_test, y_test)\u001B[38;5;132;01m:\u001B[39;00m\u001B[38;5;124m.3f\u001B[39m\u001B[38;5;132;01m}\u001B[39;00m\u001B[38;5;124m'\u001B[39m)\n\u001B[0;32m      8\u001B[0m rf_RandomGrid\u001B[38;5;241m.\u001B[39mbest_estimator_\n",
      "File \u001B[1;32m~\\.conda\\envs\\DAA\\lib\\site-packages\\sklearn\\model_selection\\_search.py:452\u001B[0m, in \u001B[0;36mBaseSearchCV.score\u001B[1;34m(self, X, y)\u001B[0m\n\u001B[0;32m    449\u001B[0m     \u001B[38;5;28;01mreturn\u001B[39;00m scorer(\u001B[38;5;28mself\u001B[39m\u001B[38;5;241m.\u001B[39mbest_estimator_, X, y)\n\u001B[0;32m    451\u001B[0m \u001B[38;5;66;03m# callable\u001B[39;00m\n\u001B[1;32m--> 452\u001B[0m score \u001B[38;5;241m=\u001B[39m \u001B[38;5;28;43mself\u001B[39;49m\u001B[38;5;241;43m.\u001B[39;49m\u001B[43mscorer_\u001B[49m\u001B[43m(\u001B[49m\u001B[38;5;28;43mself\u001B[39;49m\u001B[38;5;241;43m.\u001B[39;49m\u001B[43mbest_estimator_\u001B[49m\u001B[43m,\u001B[49m\u001B[43m \u001B[49m\u001B[43mX\u001B[49m\u001B[43m,\u001B[49m\u001B[43m \u001B[49m\u001B[43my\u001B[49m\u001B[43m)\u001B[49m\n\u001B[0;32m    453\u001B[0m \u001B[38;5;28;01mif\u001B[39;00m \u001B[38;5;28mself\u001B[39m\u001B[38;5;241m.\u001B[39mmultimetric_:\n\u001B[0;32m    454\u001B[0m     score \u001B[38;5;241m=\u001B[39m score[\u001B[38;5;28mself\u001B[39m\u001B[38;5;241m.\u001B[39mrefit]\n",
      "\u001B[1;31mTypeError\u001B[0m: accuracy_score() takes 2 positional arguments but 3 were given"
     ]
    }
   ],
   "source": [
    "print(\"Cross Validation results:\", rf_RandomGrid.cv_results_)\n",
    "\n",
    "print(\"RandomGrid best score:\", rf_RandomGrid.best_score_)\n",
    "\n",
    "print(f'Train: {rf_RandomGrid.score(X_train, y_train):.3f}')\n",
    "print(f'Test: {rf_RandomGrid.score(X_test, y_test):.3f}')\n",
    "\n",
    "rf_RandomGrid.best_estimator_"
   ],
   "metadata": {
    "collapsed": false
   }
  },
  {
   "cell_type": "code",
   "execution_count": 348,
   "outputs": [
    {
     "data": {
      "text/plain": "<sklearn.metrics._plot.confusion_matrix.ConfusionMatrixDisplay at 0x1c8a7e28b80>"
     },
     "execution_count": 348,
     "metadata": {},
     "output_type": "execute_result"
    },
    {
     "data": {
      "text/plain": "<Figure size 640x480 with 2 Axes>",
      "image/png": "[encoded data removed]"
     },
     "metadata": {},
     "output_type": "display_data"
    }
   ],
   "source": [
    "predictions = rf_RandomGrid.predict(X_test)\n",
    "\n",
    "cm = confusion_matrix(y_test, predictions)\n",
    "disp = ConfusionMatrixDisplay(cm)\n",
    "\n",
    "disp.plot(cmap='inferno')"
   ],
   "metadata": {
    "collapsed": false
   }
  },
  {
   "cell_type": "markdown",
   "source": [
    "### Obtenção das previsões do dataset de submissão"
   ],
   "metadata": {
    "collapsed": false
   }
  },
  {
   "cell_type": "code",
   "execution_count": 334,
   "outputs": [],
   "source": [
    "test_data = test_df.copy()\n",
    "\n",
    "test_data_prepared = decision_tree_data_preparation(test_data)\n",
    "\n",
    "predictions = rf_RandomGrid.predict(test_data_prepared) #RF_Model.predict(test_data_prepared)\n",
    "predictions_df = pd.DataFrame(predictions)\n",
    "predictions_df.index += 1\n",
    "predictions_df.to_csv(\"../submission_v2.csv\", header=['Incidents'], index_label='RowId')"
   ],
   "metadata": {
    "collapsed": false
   }
  },
  {
   "cell_type": "code",
   "execution_count": 334,
   "outputs": [],
   "source": [],
   "metadata": {
    "collapsed": false
   }
  }
 ],
 "metadata": {
  "kernelspec": {
   "display_name": "Python 3",
   "language": "python",
   "name": "python3"
  },
  "language_info": {
   "codemirror_mode": {
    "name": "ipython",
    "version": 2
   },
   "file_extension": ".py",
   "mimetype": "text/x-python",
   "name": "python",
   "nbconvert_exporter": "python",
   "pygments_lexer": "ipython2",
   "version": "2.7.6"
  }
 },
 "nbformat": 4,
 "nbformat_minor": 0
}
